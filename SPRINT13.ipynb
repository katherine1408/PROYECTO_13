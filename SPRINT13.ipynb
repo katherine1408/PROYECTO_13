{
 "cells": [
  {
   "cell_type": "markdown",
   "metadata": {},
   "source": [
    "# Rusty Bargain"
   ]
  },
  {
   "cell_type": "markdown",
   "metadata": {},
   "source": [
    "El servicio de venta de autos usados Rusty Bargain está desarrollando una aplicación para atraer nuevos clientes. Gracias a esa app, puedes averiguar rápidamente el valor de mercado de tu coche. Tienes acceso al historial: especificaciones técnicas, versiones de equipamiento y precios. Tienes que crear un modelo que determine el valor de mercado.\n",
    "A Rusty Bargain le interesa:\n",
    "- la calidad de la predicción;\n",
    "- la velocidad de la predicción;\n",
    "- el tiempo requerido para el entrenamiento"
   ]
  },
  {
   "cell_type": "markdown",
   "metadata": {},
   "source": [
    "## Preparación de datos"
   ]
  },
  {
   "cell_type": "markdown",
   "metadata": {},
   "source": [
    "### Inicialización:"
   ]
  },
  {
   "cell_type": "code",
   "execution_count": 1,
   "metadata": {},
   "outputs": [],
   "source": [
    "# Librerías necesarias\n",
    "\n",
    "import pandas as pd \n",
    "import numpy as np\n",
    "import time\n",
    "import matplotlib.pyplot as plt\n",
    "import seaborn as sns\n",
    "import sklearn.linear_model\n",
    "import sklearn.metrics\n",
    "from scipy.stats import randint\n",
    "import sklearn.preprocessing\n",
    "from sklearn.model_selection import train_test_split, RandomizedSearchCV\n",
    "from sklearn.preprocessing import OneHotEncoder, StandardScaler\n",
    "from sklearn.compose import ColumnTransformer\n",
    "from sklearn.model_selection import train_test_split\n",
    "from sklearn.linear_model import LinearRegression\n",
    "from sklearn.tree import DecisionTreeRegressor\n",
    "from sklearn.ensemble import RandomForestRegressor\n",
    "from lightgbm import LGBMRegressor\n",
    "from sklearn.metrics import mean_squared_error, r2_score"
   ]
  },
  {
   "cell_type": "markdown",
   "metadata": {},
   "source": [
    "### Cargar Datos:"
   ]
  },
  {
   "cell_type": "code",
   "execution_count": null,
   "metadata": {},
   "outputs": [],
   "source": [
    "# Cargar el dataset\n",
    "data_car= pd.read_csv('car_data.csv')"
   ]
  },
  {
   "cell_type": "markdown",
   "metadata": {},
   "source": [
    "### Visualización de datos:"
   ]
  },
  {
   "cell_type": "code",
   "execution_count": 3,
   "metadata": {},
   "outputs": [
    {
     "data": {
      "text/html": [
       "<div>\n",
       "<style scoped>\n",
       "    .dataframe tbody tr th:only-of-type {\n",
       "        vertical-align: middle;\n",
       "    }\n",
       "\n",
       "    .dataframe tbody tr th {\n",
       "        vertical-align: top;\n",
       "    }\n",
       "\n",
       "    .dataframe thead th {\n",
       "        text-align: right;\n",
       "    }\n",
       "</style>\n",
       "<table border=\"1\" class=\"dataframe\">\n",
       "  <thead>\n",
       "    <tr style=\"text-align: right;\">\n",
       "      <th></th>\n",
       "      <th>DateCrawled</th>\n",
       "      <th>Price</th>\n",
       "      <th>VehicleType</th>\n",
       "      <th>RegistrationYear</th>\n",
       "      <th>Gearbox</th>\n",
       "      <th>Power</th>\n",
       "      <th>Model</th>\n",
       "      <th>Mileage</th>\n",
       "      <th>RegistrationMonth</th>\n",
       "      <th>FuelType</th>\n",
       "      <th>Brand</th>\n",
       "      <th>NotRepaired</th>\n",
       "      <th>DateCreated</th>\n",
       "      <th>NumberOfPictures</th>\n",
       "      <th>PostalCode</th>\n",
       "      <th>LastSeen</th>\n",
       "    </tr>\n",
       "  </thead>\n",
       "  <tbody>\n",
       "    <tr>\n",
       "      <th>347628</th>\n",
       "      <td>03/04/2016 14:53</td>\n",
       "      <td>7499</td>\n",
       "      <td>bus</td>\n",
       "      <td>2007</td>\n",
       "      <td>manual</td>\n",
       "      <td>177</td>\n",
       "      <td>verso</td>\n",
       "      <td>125000</td>\n",
       "      <td>3</td>\n",
       "      <td>gasoline</td>\n",
       "      <td>toyota</td>\n",
       "      <td>no</td>\n",
       "      <td>03/04/2016 00:00</td>\n",
       "      <td>0</td>\n",
       "      <td>97447</td>\n",
       "      <td>05/04/2016 14:15</td>\n",
       "    </tr>\n",
       "    <tr>\n",
       "      <th>38386</th>\n",
       "      <td>28/03/2016 21:46</td>\n",
       "      <td>1750</td>\n",
       "      <td>sedan</td>\n",
       "      <td>1997</td>\n",
       "      <td>manual</td>\n",
       "      <td>150</td>\n",
       "      <td>a3</td>\n",
       "      <td>150000</td>\n",
       "      <td>8</td>\n",
       "      <td>petrol</td>\n",
       "      <td>audi</td>\n",
       "      <td>no</td>\n",
       "      <td>28/03/2016 00:00</td>\n",
       "      <td>0</td>\n",
       "      <td>88131</td>\n",
       "      <td>07/04/2016 04:17</td>\n",
       "    </tr>\n",
       "    <tr>\n",
       "      <th>66655</th>\n",
       "      <td>21/03/2016 23:52</td>\n",
       "      <td>5350</td>\n",
       "      <td>sedan</td>\n",
       "      <td>2007</td>\n",
       "      <td>manual</td>\n",
       "      <td>80</td>\n",
       "      <td>corsa</td>\n",
       "      <td>40000</td>\n",
       "      <td>7</td>\n",
       "      <td>petrol</td>\n",
       "      <td>opel</td>\n",
       "      <td>no</td>\n",
       "      <td>21/03/2016 00:00</td>\n",
       "      <td>0</td>\n",
       "      <td>67688</td>\n",
       "      <td>23/03/2016 14:18</td>\n",
       "    </tr>\n",
       "    <tr>\n",
       "      <th>307022</th>\n",
       "      <td>08/03/2016 13:57</td>\n",
       "      <td>7999</td>\n",
       "      <td>bus</td>\n",
       "      <td>2007</td>\n",
       "      <td>manual</td>\n",
       "      <td>130</td>\n",
       "      <td>transit</td>\n",
       "      <td>150000</td>\n",
       "      <td>12</td>\n",
       "      <td>gasoline</td>\n",
       "      <td>ford</td>\n",
       "      <td>NaN</td>\n",
       "      <td>08/03/2016 00:00</td>\n",
       "      <td>0</td>\n",
       "      <td>99885</td>\n",
       "      <td>09/03/2016 13:16</td>\n",
       "    </tr>\n",
       "    <tr>\n",
       "      <th>244591</th>\n",
       "      <td>23/03/2016 00:54</td>\n",
       "      <td>800</td>\n",
       "      <td>NaN</td>\n",
       "      <td>1995</td>\n",
       "      <td>NaN</td>\n",
       "      <td>0</td>\n",
       "      <td>NaN</td>\n",
       "      <td>5000</td>\n",
       "      <td>0</td>\n",
       "      <td>NaN</td>\n",
       "      <td>volkswagen</td>\n",
       "      <td>NaN</td>\n",
       "      <td>22/03/2016 00:00</td>\n",
       "      <td>0</td>\n",
       "      <td>1683</td>\n",
       "      <td>30/03/2016 12:47</td>\n",
       "    </tr>\n",
       "    <tr>\n",
       "      <th>217707</th>\n",
       "      <td>22/03/2016 10:56</td>\n",
       "      <td>5500</td>\n",
       "      <td>bus</td>\n",
       "      <td>2001</td>\n",
       "      <td>manual</td>\n",
       "      <td>102</td>\n",
       "      <td>transporter</td>\n",
       "      <td>150000</td>\n",
       "      <td>3</td>\n",
       "      <td>gasoline</td>\n",
       "      <td>volkswagen</td>\n",
       "      <td>no</td>\n",
       "      <td>22/03/2016 00:00</td>\n",
       "      <td>0</td>\n",
       "      <td>84489</td>\n",
       "      <td>22/03/2016 11:43</td>\n",
       "    </tr>\n",
       "    <tr>\n",
       "      <th>93590</th>\n",
       "      <td>04/04/2016 22:38</td>\n",
       "      <td>3999</td>\n",
       "      <td>wagon</td>\n",
       "      <td>2004</td>\n",
       "      <td>auto</td>\n",
       "      <td>131</td>\n",
       "      <td>passat</td>\n",
       "      <td>150000</td>\n",
       "      <td>12</td>\n",
       "      <td>gasoline</td>\n",
       "      <td>volkswagen</td>\n",
       "      <td>no</td>\n",
       "      <td>04/04/2016 00:00</td>\n",
       "      <td>0</td>\n",
       "      <td>9573</td>\n",
       "      <td>07/04/2016 01:16</td>\n",
       "    </tr>\n",
       "    <tr>\n",
       "      <th>44674</th>\n",
       "      <td>05/04/2016 08:54</td>\n",
       "      <td>700</td>\n",
       "      <td>small</td>\n",
       "      <td>2000</td>\n",
       "      <td>manual</td>\n",
       "      <td>45</td>\n",
       "      <td>corsa</td>\n",
       "      <td>125000</td>\n",
       "      <td>6</td>\n",
       "      <td>petrol</td>\n",
       "      <td>opel</td>\n",
       "      <td>no</td>\n",
       "      <td>05/04/2016 00:00</td>\n",
       "      <td>0</td>\n",
       "      <td>87616</td>\n",
       "      <td>07/04/2016 12:15</td>\n",
       "    </tr>\n",
       "    <tr>\n",
       "      <th>151596</th>\n",
       "      <td>08/03/2016 21:47</td>\n",
       "      <td>1200</td>\n",
       "      <td>NaN</td>\n",
       "      <td>2016</td>\n",
       "      <td>manual</td>\n",
       "      <td>131</td>\n",
       "      <td>mondeo</td>\n",
       "      <td>150000</td>\n",
       "      <td>0</td>\n",
       "      <td>gasoline</td>\n",
       "      <td>ford</td>\n",
       "      <td>NaN</td>\n",
       "      <td>08/03/2016 00:00</td>\n",
       "      <td>0</td>\n",
       "      <td>66113</td>\n",
       "      <td>02/04/2016 05:44</td>\n",
       "    </tr>\n",
       "    <tr>\n",
       "      <th>104663</th>\n",
       "      <td>03/04/2016 13:36</td>\n",
       "      <td>600</td>\n",
       "      <td>sedan</td>\n",
       "      <td>1997</td>\n",
       "      <td>manual</td>\n",
       "      <td>0</td>\n",
       "      <td>e_klasse</td>\n",
       "      <td>150000</td>\n",
       "      <td>6</td>\n",
       "      <td>NaN</td>\n",
       "      <td>mercedes_benz</td>\n",
       "      <td>NaN</td>\n",
       "      <td>03/04/2016 00:00</td>\n",
       "      <td>0</td>\n",
       "      <td>88339</td>\n",
       "      <td>03/04/2016 13:36</td>\n",
       "    </tr>\n",
       "  </tbody>\n",
       "</table>\n",
       "</div>"
      ],
      "text/plain": [
       "             DateCrawled  Price VehicleType  RegistrationYear Gearbox  Power  \\\n",
       "347628  03/04/2016 14:53   7499         bus              2007  manual    177   \n",
       "38386   28/03/2016 21:46   1750       sedan              1997  manual    150   \n",
       "66655   21/03/2016 23:52   5350       sedan              2007  manual     80   \n",
       "307022  08/03/2016 13:57   7999         bus              2007  manual    130   \n",
       "244591  23/03/2016 00:54    800         NaN              1995     NaN      0   \n",
       "217707  22/03/2016 10:56   5500         bus              2001  manual    102   \n",
       "93590   04/04/2016 22:38   3999       wagon              2004    auto    131   \n",
       "44674   05/04/2016 08:54    700       small              2000  manual     45   \n",
       "151596  08/03/2016 21:47   1200         NaN              2016  manual    131   \n",
       "104663  03/04/2016 13:36    600       sedan              1997  manual      0   \n",
       "\n",
       "              Model  Mileage  RegistrationMonth  FuelType          Brand  \\\n",
       "347628        verso   125000                  3  gasoline         toyota   \n",
       "38386            a3   150000                  8    petrol           audi   \n",
       "66655         corsa    40000                  7    petrol           opel   \n",
       "307022      transit   150000                 12  gasoline           ford   \n",
       "244591          NaN     5000                  0       NaN     volkswagen   \n",
       "217707  transporter   150000                  3  gasoline     volkswagen   \n",
       "93590        passat   150000                 12  gasoline     volkswagen   \n",
       "44674         corsa   125000                  6    petrol           opel   \n",
       "151596       mondeo   150000                  0  gasoline           ford   \n",
       "104663     e_klasse   150000                  6       NaN  mercedes_benz   \n",
       "\n",
       "       NotRepaired       DateCreated  NumberOfPictures  PostalCode  \\\n",
       "347628          no  03/04/2016 00:00                 0       97447   \n",
       "38386           no  28/03/2016 00:00                 0       88131   \n",
       "66655           no  21/03/2016 00:00                 0       67688   \n",
       "307022         NaN  08/03/2016 00:00                 0       99885   \n",
       "244591         NaN  22/03/2016 00:00                 0        1683   \n",
       "217707          no  22/03/2016 00:00                 0       84489   \n",
       "93590           no  04/04/2016 00:00                 0        9573   \n",
       "44674           no  05/04/2016 00:00                 0       87616   \n",
       "151596         NaN  08/03/2016 00:00                 0       66113   \n",
       "104663         NaN  03/04/2016 00:00                 0       88339   \n",
       "\n",
       "                LastSeen  \n",
       "347628  05/04/2016 14:15  \n",
       "38386   07/04/2016 04:17  \n",
       "66655   23/03/2016 14:18  \n",
       "307022  09/03/2016 13:16  \n",
       "244591  30/03/2016 12:47  \n",
       "217707  22/03/2016 11:43  \n",
       "93590   07/04/2016 01:16  \n",
       "44674   07/04/2016 12:15  \n",
       "151596  02/04/2016 05:44  \n",
       "104663  03/04/2016 13:36  "
      ]
     },
     "metadata": {},
     "output_type": "display_data"
    }
   ],
   "source": [
    "# Revisión inicial del dataset\n",
    "display(data_car.sample(10))"
   ]
  },
  {
   "cell_type": "code",
   "execution_count": 4,
   "metadata": {},
   "outputs": [
    {
     "name": "stdout",
     "output_type": "stream",
     "text": [
      "<class 'pandas.core.frame.DataFrame'>\n",
      "RangeIndex: 354369 entries, 0 to 354368\n",
      "Data columns (total 16 columns):\n",
      " #   Column             Non-Null Count   Dtype \n",
      "---  ------             --------------   ----- \n",
      " 0   DateCrawled        354369 non-null  object\n",
      " 1   Price              354369 non-null  int64 \n",
      " 2   VehicleType        316879 non-null  object\n",
      " 3   RegistrationYear   354369 non-null  int64 \n",
      " 4   Gearbox            334536 non-null  object\n",
      " 5   Power              354369 non-null  int64 \n",
      " 6   Model              334664 non-null  object\n",
      " 7   Mileage            354369 non-null  int64 \n",
      " 8   RegistrationMonth  354369 non-null  int64 \n",
      " 9   FuelType           321474 non-null  object\n",
      " 10  Brand              354369 non-null  object\n",
      " 11  NotRepaired        283215 non-null  object\n",
      " 12  DateCreated        354369 non-null  object\n",
      " 13  NumberOfPictures   354369 non-null  int64 \n",
      " 14  PostalCode         354369 non-null  int64 \n",
      " 15  LastSeen           354369 non-null  object\n",
      "dtypes: int64(7), object(9)\n",
      "memory usage: 43.3+ MB\n"
     ]
    }
   ],
   "source": [
    "data_car.info()"
   ]
  },
  {
   "cell_type": "markdown",
   "metadata": {},
   "source": [
    "### Revisión de datos nulos:"
   ]
  },
  {
   "cell_type": "code",
   "execution_count": 5,
   "metadata": {},
   "outputs": [
    {
     "data": {
      "text/plain": [
       "DateCrawled              0\n",
       "Price                    0\n",
       "VehicleType          37490\n",
       "RegistrationYear         0\n",
       "Gearbox              19833\n",
       "Power                    0\n",
       "Model                19705\n",
       "Mileage                  0\n",
       "RegistrationMonth        0\n",
       "FuelType             32895\n",
       "Brand                    0\n",
       "NotRepaired          71154\n",
       "DateCreated              0\n",
       "NumberOfPictures         0\n",
       "PostalCode               0\n",
       "LastSeen                 0\n",
       "dtype: int64"
      ]
     },
     "execution_count": 5,
     "metadata": {},
     "output_type": "execute_result"
    }
   ],
   "source": [
    "data_car.isna().sum()"
   ]
  },
  {
   "cell_type": "markdown",
   "metadata": {},
   "source": [
    "Se ha detectado que las columnas: VehicleType, Gearbox, Model, FuelType y NotRepaired tienen valores nulos y son columnas categóricas.\n",
    "\n",
    "Imputar los valores faltantes:\n",
    "\n",
    "Para columnas categóricas, reemplazaremos los valores faltantes con 'unknown' indicando que corresponden a  \"datos desconocido\" para evitar perder información eliminando filas o columnas completas.\n",
    "Las columnas categóricas (VehicleType, Gearbox, etc.) son relevantes para predecir el precio del coche. Si eliminamos filas con datos faltantes, perderíamos registros valiosos."
   ]
  },
  {
   "cell_type": "code",
   "execution_count": 6,
   "metadata": {},
   "outputs": [],
   "source": [
    "# Imputar valores faltantes con 'unknown' en columnas categóricas\n",
    "columnas_categorias = ['VehicleType', 'Gearbox', 'Model', 'FuelType', 'NotRepaired']\n",
    "for col in columnas_categorias:\n",
    "    data_car[col].fillna('unknown', inplace=True)"
   ]
  },
  {
   "cell_type": "code",
   "execution_count": 7,
   "metadata": {},
   "outputs": [
    {
     "data": {
      "text/plain": [
       "DateCrawled          0\n",
       "Price                0\n",
       "VehicleType          0\n",
       "RegistrationYear     0\n",
       "Gearbox              0\n",
       "Power                0\n",
       "Model                0\n",
       "Mileage              0\n",
       "RegistrationMonth    0\n",
       "FuelType             0\n",
       "Brand                0\n",
       "NotRepaired          0\n",
       "DateCreated          0\n",
       "NumberOfPictures     0\n",
       "PostalCode           0\n",
       "LastSeen             0\n",
       "dtype: int64"
      ]
     },
     "execution_count": 7,
     "metadata": {},
     "output_type": "execute_result"
    }
   ],
   "source": [
    "# Verificar que no queden valores nulos:\n",
    "\n",
    "data_car.isna().sum()"
   ]
  },
  {
   "cell_type": "markdown",
   "metadata": {},
   "source": [
    "### Revisión de datos duplicados:"
   ]
  },
  {
   "cell_type": "code",
   "execution_count": 8,
   "metadata": {},
   "outputs": [
    {
     "data": {
      "text/plain": [
       "262"
      ]
     },
     "execution_count": 8,
     "metadata": {},
     "output_type": "execute_result"
    }
   ],
   "source": [
    "# Verificar si hay datos duplicados\n",
    "\n",
    "filas_duplicadas = data_car.duplicated().sum()\n",
    "filas_duplicadas"
   ]
  },
  {
   "cell_type": "markdown",
   "metadata": {},
   "source": [
    "Eliminar duplicados en las filas duplicadas porque no aportan nueva información al modelo.  \n",
    "\n",
    "Los duplicados podrían influir en el entrenamiento del modelo al dar un peso indebido a ciertos datos."
   ]
  },
  {
   "cell_type": "code",
   "execution_count": 9,
   "metadata": {},
   "outputs": [],
   "source": [
    "data_car_procesada = data_car.drop_duplicates()"
   ]
  },
  {
   "cell_type": "code",
   "execution_count": 10,
   "metadata": {},
   "outputs": [
    {
     "data": {
      "text/plain": [
       "0"
      ]
     },
     "execution_count": 10,
     "metadata": {},
     "output_type": "execute_result"
    }
   ],
   "source": [
    "# Verificar que no queden valores duplicados:\n",
    "data_car_procesada.duplicated().sum()"
   ]
  },
  {
   "cell_type": "markdown",
   "metadata": {},
   "source": [
    "**Revisamos las estadísticas descriptivas de los datos**"
   ]
  },
  {
   "cell_type": "code",
   "execution_count": 11,
   "metadata": {},
   "outputs": [
    {
     "data": {
      "text/html": [
       "<div>\n",
       "<style scoped>\n",
       "    .dataframe tbody tr th:only-of-type {\n",
       "        vertical-align: middle;\n",
       "    }\n",
       "\n",
       "    .dataframe tbody tr th {\n",
       "        vertical-align: top;\n",
       "    }\n",
       "\n",
       "    .dataframe thead th {\n",
       "        text-align: right;\n",
       "    }\n",
       "</style>\n",
       "<table border=\"1\" class=\"dataframe\">\n",
       "  <thead>\n",
       "    <tr style=\"text-align: right;\">\n",
       "      <th></th>\n",
       "      <th>Price</th>\n",
       "      <th>RegistrationYear</th>\n",
       "      <th>Power</th>\n",
       "      <th>Mileage</th>\n",
       "      <th>RegistrationMonth</th>\n",
       "      <th>NumberOfPictures</th>\n",
       "      <th>PostalCode</th>\n",
       "    </tr>\n",
       "  </thead>\n",
       "  <tbody>\n",
       "    <tr>\n",
       "      <th>count</th>\n",
       "      <td>354107.000000</td>\n",
       "      <td>354107.000000</td>\n",
       "      <td>354107.000000</td>\n",
       "      <td>354107.000000</td>\n",
       "      <td>354107.000000</td>\n",
       "      <td>354107.0</td>\n",
       "      <td>354107.000000</td>\n",
       "    </tr>\n",
       "    <tr>\n",
       "      <th>mean</th>\n",
       "      <td>4416.433287</td>\n",
       "      <td>2004.235355</td>\n",
       "      <td>110.089651</td>\n",
       "      <td>128211.811684</td>\n",
       "      <td>5.714182</td>\n",
       "      <td>0.0</td>\n",
       "      <td>50507.145030</td>\n",
       "    </tr>\n",
       "    <tr>\n",
       "      <th>std</th>\n",
       "      <td>4514.338584</td>\n",
       "      <td>90.261168</td>\n",
       "      <td>189.914972</td>\n",
       "      <td>37906.590101</td>\n",
       "      <td>3.726682</td>\n",
       "      <td>0.0</td>\n",
       "      <td>25784.212094</td>\n",
       "    </tr>\n",
       "    <tr>\n",
       "      <th>min</th>\n",
       "      <td>0.000000</td>\n",
       "      <td>1000.000000</td>\n",
       "      <td>0.000000</td>\n",
       "      <td>5000.000000</td>\n",
       "      <td>0.000000</td>\n",
       "      <td>0.0</td>\n",
       "      <td>1067.000000</td>\n",
       "    </tr>\n",
       "    <tr>\n",
       "      <th>25%</th>\n",
       "      <td>1050.000000</td>\n",
       "      <td>1999.000000</td>\n",
       "      <td>69.000000</td>\n",
       "      <td>125000.000000</td>\n",
       "      <td>3.000000</td>\n",
       "      <td>0.0</td>\n",
       "      <td>30165.000000</td>\n",
       "    </tr>\n",
       "    <tr>\n",
       "      <th>50%</th>\n",
       "      <td>2700.000000</td>\n",
       "      <td>2003.000000</td>\n",
       "      <td>105.000000</td>\n",
       "      <td>150000.000000</td>\n",
       "      <td>6.000000</td>\n",
       "      <td>0.0</td>\n",
       "      <td>49406.000000</td>\n",
       "    </tr>\n",
       "    <tr>\n",
       "      <th>75%</th>\n",
       "      <td>6400.000000</td>\n",
       "      <td>2008.000000</td>\n",
       "      <td>143.000000</td>\n",
       "      <td>150000.000000</td>\n",
       "      <td>9.000000</td>\n",
       "      <td>0.0</td>\n",
       "      <td>71083.000000</td>\n",
       "    </tr>\n",
       "    <tr>\n",
       "      <th>max</th>\n",
       "      <td>20000.000000</td>\n",
       "      <td>9999.000000</td>\n",
       "      <td>20000.000000</td>\n",
       "      <td>150000.000000</td>\n",
       "      <td>12.000000</td>\n",
       "      <td>0.0</td>\n",
       "      <td>99998.000000</td>\n",
       "    </tr>\n",
       "  </tbody>\n",
       "</table>\n",
       "</div>"
      ],
      "text/plain": [
       "               Price  RegistrationYear          Power        Mileage  \\\n",
       "count  354107.000000     354107.000000  354107.000000  354107.000000   \n",
       "mean     4416.433287       2004.235355     110.089651  128211.811684   \n",
       "std      4514.338584         90.261168     189.914972   37906.590101   \n",
       "min         0.000000       1000.000000       0.000000    5000.000000   \n",
       "25%      1050.000000       1999.000000      69.000000  125000.000000   \n",
       "50%      2700.000000       2003.000000     105.000000  150000.000000   \n",
       "75%      6400.000000       2008.000000     143.000000  150000.000000   \n",
       "max     20000.000000       9999.000000   20000.000000  150000.000000   \n",
       "\n",
       "       RegistrationMonth  NumberOfPictures     PostalCode  \n",
       "count      354107.000000          354107.0  354107.000000  \n",
       "mean            5.714182               0.0   50507.145030  \n",
       "std             3.726682               0.0   25784.212094  \n",
       "min             0.000000               0.0    1067.000000  \n",
       "25%             3.000000               0.0   30165.000000  \n",
       "50%             6.000000               0.0   49406.000000  \n",
       "75%             9.000000               0.0   71083.000000  \n",
       "max            12.000000               0.0   99998.000000  "
      ]
     },
     "execution_count": 11,
     "metadata": {},
     "output_type": "execute_result"
    }
   ],
   "source": [
    "data_car_procesada.describe()"
   ]
  },
  {
   "cell_type": "code",
   "execution_count": 12,
   "metadata": {},
   "outputs": [],
   "source": [
    "# Eliminar columnas irrelevantes\n",
    "\n",
    "data_car_procesada = data_car_procesada.drop(['DateCrawled', 'DateCreated', 'NumberOfPictures', 'PostalCode', 'LastSeen'], axis=1)"
   ]
  },
  {
   "cell_type": "code",
   "execution_count": 13,
   "metadata": {},
   "outputs": [
    {
     "data": {
      "text/html": [
       "<div>\n",
       "<style scoped>\n",
       "    .dataframe tbody tr th:only-of-type {\n",
       "        vertical-align: middle;\n",
       "    }\n",
       "\n",
       "    .dataframe tbody tr th {\n",
       "        vertical-align: top;\n",
       "    }\n",
       "\n",
       "    .dataframe thead th {\n",
       "        text-align: right;\n",
       "    }\n",
       "</style>\n",
       "<table border=\"1\" class=\"dataframe\">\n",
       "  <thead>\n",
       "    <tr style=\"text-align: right;\">\n",
       "      <th></th>\n",
       "      <th>Price</th>\n",
       "      <th>VehicleType</th>\n",
       "      <th>RegistrationYear</th>\n",
       "      <th>Gearbox</th>\n",
       "      <th>Power</th>\n",
       "      <th>Model</th>\n",
       "      <th>Mileage</th>\n",
       "      <th>RegistrationMonth</th>\n",
       "      <th>FuelType</th>\n",
       "      <th>Brand</th>\n",
       "      <th>NotRepaired</th>\n",
       "    </tr>\n",
       "  </thead>\n",
       "  <tbody>\n",
       "    <tr>\n",
       "      <th>0</th>\n",
       "      <td>480</td>\n",
       "      <td>unknown</td>\n",
       "      <td>1993</td>\n",
       "      <td>manual</td>\n",
       "      <td>0</td>\n",
       "      <td>golf</td>\n",
       "      <td>150000</td>\n",
       "      <td>0</td>\n",
       "      <td>petrol</td>\n",
       "      <td>volkswagen</td>\n",
       "      <td>unknown</td>\n",
       "    </tr>\n",
       "    <tr>\n",
       "      <th>1</th>\n",
       "      <td>18300</td>\n",
       "      <td>coupe</td>\n",
       "      <td>2011</td>\n",
       "      <td>manual</td>\n",
       "      <td>190</td>\n",
       "      <td>unknown</td>\n",
       "      <td>125000</td>\n",
       "      <td>5</td>\n",
       "      <td>gasoline</td>\n",
       "      <td>audi</td>\n",
       "      <td>yes</td>\n",
       "    </tr>\n",
       "    <tr>\n",
       "      <th>2</th>\n",
       "      <td>9800</td>\n",
       "      <td>suv</td>\n",
       "      <td>2004</td>\n",
       "      <td>auto</td>\n",
       "      <td>163</td>\n",
       "      <td>grand</td>\n",
       "      <td>125000</td>\n",
       "      <td>8</td>\n",
       "      <td>gasoline</td>\n",
       "      <td>jeep</td>\n",
       "      <td>unknown</td>\n",
       "    </tr>\n",
       "    <tr>\n",
       "      <th>3</th>\n",
       "      <td>1500</td>\n",
       "      <td>small</td>\n",
       "      <td>2001</td>\n",
       "      <td>manual</td>\n",
       "      <td>75</td>\n",
       "      <td>golf</td>\n",
       "      <td>150000</td>\n",
       "      <td>6</td>\n",
       "      <td>petrol</td>\n",
       "      <td>volkswagen</td>\n",
       "      <td>no</td>\n",
       "    </tr>\n",
       "    <tr>\n",
       "      <th>4</th>\n",
       "      <td>3600</td>\n",
       "      <td>small</td>\n",
       "      <td>2008</td>\n",
       "      <td>manual</td>\n",
       "      <td>69</td>\n",
       "      <td>fabia</td>\n",
       "      <td>90000</td>\n",
       "      <td>7</td>\n",
       "      <td>gasoline</td>\n",
       "      <td>skoda</td>\n",
       "      <td>no</td>\n",
       "    </tr>\n",
       "    <tr>\n",
       "      <th>...</th>\n",
       "      <td>...</td>\n",
       "      <td>...</td>\n",
       "      <td>...</td>\n",
       "      <td>...</td>\n",
       "      <td>...</td>\n",
       "      <td>...</td>\n",
       "      <td>...</td>\n",
       "      <td>...</td>\n",
       "      <td>...</td>\n",
       "      <td>...</td>\n",
       "      <td>...</td>\n",
       "    </tr>\n",
       "    <tr>\n",
       "      <th>354364</th>\n",
       "      <td>0</td>\n",
       "      <td>unknown</td>\n",
       "      <td>2005</td>\n",
       "      <td>manual</td>\n",
       "      <td>0</td>\n",
       "      <td>colt</td>\n",
       "      <td>150000</td>\n",
       "      <td>7</td>\n",
       "      <td>petrol</td>\n",
       "      <td>mitsubishi</td>\n",
       "      <td>yes</td>\n",
       "    </tr>\n",
       "    <tr>\n",
       "      <th>354365</th>\n",
       "      <td>2200</td>\n",
       "      <td>unknown</td>\n",
       "      <td>2005</td>\n",
       "      <td>unknown</td>\n",
       "      <td>0</td>\n",
       "      <td>unknown</td>\n",
       "      <td>20000</td>\n",
       "      <td>1</td>\n",
       "      <td>unknown</td>\n",
       "      <td>sonstige_autos</td>\n",
       "      <td>unknown</td>\n",
       "    </tr>\n",
       "    <tr>\n",
       "      <th>354366</th>\n",
       "      <td>1199</td>\n",
       "      <td>convertible</td>\n",
       "      <td>2000</td>\n",
       "      <td>auto</td>\n",
       "      <td>101</td>\n",
       "      <td>fortwo</td>\n",
       "      <td>125000</td>\n",
       "      <td>3</td>\n",
       "      <td>petrol</td>\n",
       "      <td>smart</td>\n",
       "      <td>no</td>\n",
       "    </tr>\n",
       "    <tr>\n",
       "      <th>354367</th>\n",
       "      <td>9200</td>\n",
       "      <td>bus</td>\n",
       "      <td>1996</td>\n",
       "      <td>manual</td>\n",
       "      <td>102</td>\n",
       "      <td>transporter</td>\n",
       "      <td>150000</td>\n",
       "      <td>3</td>\n",
       "      <td>gasoline</td>\n",
       "      <td>volkswagen</td>\n",
       "      <td>no</td>\n",
       "    </tr>\n",
       "    <tr>\n",
       "      <th>354368</th>\n",
       "      <td>3400</td>\n",
       "      <td>wagon</td>\n",
       "      <td>2002</td>\n",
       "      <td>manual</td>\n",
       "      <td>100</td>\n",
       "      <td>golf</td>\n",
       "      <td>150000</td>\n",
       "      <td>6</td>\n",
       "      <td>gasoline</td>\n",
       "      <td>volkswagen</td>\n",
       "      <td>unknown</td>\n",
       "    </tr>\n",
       "  </tbody>\n",
       "</table>\n",
       "<p>354107 rows × 11 columns</p>\n",
       "</div>"
      ],
      "text/plain": [
       "        Price  VehicleType  RegistrationYear  Gearbox  Power        Model  \\\n",
       "0         480      unknown              1993   manual      0         golf   \n",
       "1       18300        coupe              2011   manual    190      unknown   \n",
       "2        9800          suv              2004     auto    163        grand   \n",
       "3        1500        small              2001   manual     75         golf   \n",
       "4        3600        small              2008   manual     69        fabia   \n",
       "...       ...          ...               ...      ...    ...          ...   \n",
       "354364      0      unknown              2005   manual      0         colt   \n",
       "354365   2200      unknown              2005  unknown      0      unknown   \n",
       "354366   1199  convertible              2000     auto    101       fortwo   \n",
       "354367   9200          bus              1996   manual    102  transporter   \n",
       "354368   3400        wagon              2002   manual    100         golf   \n",
       "\n",
       "        Mileage  RegistrationMonth  FuelType           Brand NotRepaired  \n",
       "0        150000                  0    petrol      volkswagen     unknown  \n",
       "1        125000                  5  gasoline            audi         yes  \n",
       "2        125000                  8  gasoline            jeep     unknown  \n",
       "3        150000                  6    petrol      volkswagen          no  \n",
       "4         90000                  7  gasoline           skoda          no  \n",
       "...         ...                ...       ...             ...         ...  \n",
       "354364   150000                  7    petrol      mitsubishi         yes  \n",
       "354365    20000                  1   unknown  sonstige_autos     unknown  \n",
       "354366   125000                  3    petrol           smart          no  \n",
       "354367   150000                  3  gasoline      volkswagen          no  \n",
       "354368   150000                  6  gasoline      volkswagen     unknown  \n",
       "\n",
       "[354107 rows x 11 columns]"
      ]
     },
     "execution_count": 13,
     "metadata": {},
     "output_type": "execute_result"
    }
   ],
   "source": [
    "data_car_procesada"
   ]
  },
  {
   "cell_type": "markdown",
   "metadata": {},
   "source": [
    "## Entrenamiento del modelo "
   ]
  },
  {
   "cell_type": "code",
   "execution_count": 14,
   "metadata": {},
   "outputs": [],
   "source": [
    "# Separar características y objetivo:\n",
    "\n",
    "X = data_car_procesada.drop('Price', axis=1)\n",
    "y = data_car_procesada['Price']"
   ]
  },
  {
   "cell_type": "code",
   "execution_count": 15,
   "metadata": {},
   "outputs": [],
   "source": [
    "# Identificar columnas categóricas y numéricas:\n",
    "\n",
    "columnas_categoricas = ['VehicleType', 'Gearbox', 'FuelType', 'NotRepaired', 'Brand', 'Model']\n",
    "columnas_numericas = ['Mileage', 'RegistrationYear', 'Power', 'RegistrationMonth']\n"
   ]
  },
  {
   "cell_type": "code",
   "execution_count": 16,
   "metadata": {},
   "outputs": [],
   "source": [
    "# Preprocesamiento\n",
    "preprocessor = ColumnTransformer(\n",
    "    transformers=[\n",
    "        ('num', StandardScaler(), columnas_numericas),\n",
    "        ('cat', OneHotEncoder(handle_unknown='ignore'), columnas_categoricas)\n",
    "    ])\n",
    "\n",
    "X_preprocessed = preprocessor.fit_transform(X)"
   ]
  },
  {
   "cell_type": "code",
   "execution_count": 17,
   "metadata": {},
   "outputs": [],
   "source": [
    "#Dividir datos en conjuntos de entrenamiento y prueba:\n",
    "\n",
    "X_train, X_test, y_train, y_test = train_test_split(X_preprocessed, y, test_size=0.2, random_state=42)\n"
   ]
  },
  {
   "cell_type": "markdown",
   "metadata": {},
   "source": [
    "### Regresión lineal:"
   ]
  },
  {
   "cell_type": "code",
   "execution_count": 18,
   "metadata": {},
   "outputs": [
    {
     "name": "stdout",
     "output_type": "stream",
     "text": [
      "RMSE de Regresión Lineal: 3161.40\n",
      "CPU times: user 3.98 s, sys: 7.73 s, total: 11.7 s\n",
      "Wall time: 11.7 s\n"
     ]
    }
   ],
   "source": [
    "%%time\n",
    "# Modelo de regresión lineal:\n",
    "\n",
    "lr_modelo = LinearRegression()\n",
    "\n",
    "lr_modelo.fit(X_train, y_train)\n",
    "\n",
    "# Predicciones\n",
    "lr_prediciones = lr_modelo.predict(X_test)\n",
    "\n",
    "# Evaluación\n",
    "\n",
    "lr_rmse = mean_squared_error(y_test, lr_prediciones, squared=False)\n",
    "\n",
    "print(f\"RMSE de Regresión Lineal: {lr_rmse:.2f}\")\n"
   ]
  },
  {
   "cell_type": "markdown",
   "metadata": {},
   "source": [
    "### Árbol de decisión:"
   ]
  },
  {
   "cell_type": "code",
   "execution_count": 19,
   "metadata": {},
   "outputs": [
    {
     "name": "stdout",
     "output_type": "stream",
     "text": [
      "RMSE de Árbol de Decisión: 2093.22\n",
      "CPU times: user 3.33 s, sys: 0 ns, total: 3.33 s\n",
      "Wall time: 3.4 s\n"
     ]
    }
   ],
   "source": [
    "%%time\n",
    "# Árbol de decisión con ajuste básico\n",
    "dt_model = DecisionTreeRegressor(max_depth=10, random_state=42)\n",
    "dt_model.fit(X_train, y_train)\n",
    "\n",
    "# Predicciones\n",
    "dt_preds = dt_model.predict(X_test)\n",
    "\n",
    "# Evaluación\n",
    "dt_rmse = mean_squared_error(y_test, dt_preds, squared=False)\n",
    "print(f\"RMSE de Árbol de Decisión: {dt_rmse:.2f}\")\n"
   ]
  },
  {
   "cell_type": "markdown",
   "metadata": {},
   "source": [
    "### Random Forest:"
   ]
  },
  {
   "cell_type": "code",
   "execution_count": 20,
   "metadata": {},
   "outputs": [
    {
     "name": "stdout",
     "output_type": "stream",
     "text": [
      "RMSE de Random Forest: 2007.82\n",
      "CPU times: user 1min 59s, sys: 0 ns, total: 1min 59s\n",
      "Wall time: 1min 59s\n"
     ]
    }
   ],
   "source": [
    "%%time\n",
    "# Modelo Random Forest\n",
    "rf_model = RandomForestRegressor(n_estimators=50, max_depth=10, random_state=42)\n",
    "rf_model.fit(X_train, y_train)\n",
    "\n",
    "# Predicciones\n",
    "rf_preds = rf_model.predict(X_test)\n",
    "\n",
    "# Evaluación\n",
    "rf_rmse = mean_squared_error(y_test, rf_preds, squared=False)\n",
    "print(f\"RMSE de Random Forest: {rf_rmse:.2f}\")\n"
   ]
  },
  {
   "cell_type": "markdown",
   "metadata": {},
   "source": [
    "### LightGBM:"
   ]
  },
  {
   "cell_type": "code",
   "execution_count": 21,
   "metadata": {},
   "outputs": [
    {
     "name": "stdout",
     "output_type": "stream",
     "text": [
      "RMSE de LightGBM: 1899.61\n",
      "CPU times: user 2.17 s, sys: 0 ns, total: 2.17 s\n",
      "Wall time: 2.17 s\n"
     ]
    }
   ],
   "source": [
    "%%time\n",
    "# Modelo LightGBM\n",
    "lgbm_model = LGBMRegressor(n_estimators=50, learning_rate=0.1, random_state=42)\n",
    "lgbm_model.fit(X_train, y_train)\n",
    "\n",
    "# Predicciones\n",
    "lgbm_preds = lgbm_model.predict(X_test)\n",
    "\n",
    "# Evaluación\n",
    "lgbm_rmse = mean_squared_error(y_test, lgbm_preds, squared=False)\n",
    "print(f\"RMSE de LightGBM: {lgbm_rmse:.2f}\")\n"
   ]
  },
  {
   "cell_type": "markdown",
   "metadata": {},
   "source": [
    "## Análisis del modelo"
   ]
  },
  {
   "cell_type": "code",
   "execution_count": 22,
   "metadata": {},
   "outputs": [
    {
     "name": "stdout",
     "output_type": "stream",
     "text": [
      "\n",
      "Resultados comparativos:\n",
      "              Modelo         RMSE\n",
      "0   Regresión Lineal  3161.400989\n",
      "1  Árbol de Decisión  2093.223241\n",
      "2      Random Forest  2007.823353\n",
      "3           LightGBM  1899.605263\n"
     ]
    }
   ],
   "source": [
    "# Comparar RMSE de los modelos:\n",
    "\n",
    "results = pd.DataFrame({\n",
    "    'Modelo': ['Regresión Lineal', 'Árbol de Decisión', 'Random Forest', 'LightGBM'],\n",
    "    'RMSE': [lr_rmse, dt_rmse, rf_rmse, lgbm_rmse]\n",
    "})\n",
    "print(\"\\nResultados comparativos:\")\n",
    "print(results)"
   ]
  },
  {
   "cell_type": "code",
   "execution_count": 23,
   "metadata": {},
   "outputs": [
    {
     "data": {
      "image/png": "[encoded data removed]",
      "text/plain": [
       "<Figure size 1000x600 with 1 Axes>"
      ]
     },
     "metadata": {},
     "output_type": "display_data"
    }
   ],
   "source": [
    "# Gráfico de comparación\n",
    "\n",
    "plt.figure(figsize=(10, 6))\n",
    "sns.barplot(data=results, x='Modelo', y='RMSE')\n",
    "plt.title('Comparación de RMSE entre Modelos')\n",
    "plt.ylabel('RMSE')\n",
    "plt.show()"
   ]
  },
  {
   "cell_type": "markdown",
   "metadata": {},
   "source": [
    "**Conclusiones:**\n",
    "\n",
    "Regresión lineal: Sirvió como una base para comparar. Aunque es rápida, tuvo el peor desempeño en términos de RMSE.\n",
    "\n",
    "Árbol de decisión: Mejoró el RMSE pero tiende a sobreajustarse sin ajuste adecuado.\n",
    "\n",
    "Random Forest: Balanceó precisión y velocidad, mostrando un RMSE mucho mejor.\n",
    "\n",
    "LightGBM: Tuvo el mejor desempeño en RMSE y es rápido en predicciones, ideal para producción."
   ]
  },
  {
   "cell_type": "markdown",
   "metadata": {},
   "source": [
    "## Optimización de párametros"
   ]
  },
  {
   "cell_type": "code",
   "execution_count": 24,
   "metadata": {},
   "outputs": [],
   "source": [
    "# Dividir en entrenamiento,validación y prueba\n",
    "X_temp, X_test, y_temp, y_test = train_test_split(X, y, test_size=0.2, random_state=42)\n",
    "\n",
    "# Dividir el conjunto restante en entrenamiento y validación\n",
    "X_train, X_val, y_train, y_val = train_test_split(X_temp, y_temp, test_size=0.25, random_state=42)"
   ]
  },
  {
   "cell_type": "code",
   "execution_count": 25,
   "metadata": {},
   "outputs": [],
   "source": [
    "# Preprocesamiento\n",
    "columnas_numericas = ['Mileage', 'RegistrationYear', 'Power', 'RegistrationMonth']\n",
    "preprocessor = ColumnTransformer(\n",
    "    transformers=[\n",
    "        ('num', StandardScaler(), columnas_numericas),\n",
    "        ('cat', OneHotEncoder(handle_unknown='ignore'), columnas_categoricas)\n",
    "    ])\n",
    "X_train_preprocessed = preprocessor.fit_transform(X_train)\n",
    "X_val_preprocessed = preprocessor.transform(X_val)\n",
    "X_test_preprocessed = preprocessor.transform(X_test)"
   ]
  },
  {
   "cell_type": "code",
   "execution_count": 26,
   "metadata": {},
   "outputs": [
    {
     "name": "stdout",
     "output_type": "stream",
     "text": [
      "RMSE de LightGBM: 3175.88\n",
      "CPU times: user 3.19 s, sys: 5.25 s, total: 8.44 s\n",
      "Wall time: 8.41 s\n"
     ]
    }
   ],
   "source": [
    "%%time\n",
    "# --- Modelo de Regresión Lineal ---\n",
    "\n",
    "lr_modelo = LinearRegression()\n",
    "lr_modelo.fit(X_train_preprocessed, y_train)\n",
    "lr_val_preds = lr_modelo.predict(X_val_preprocessed)\n",
    "lr_val_rmse = mean_squared_error(y_val, lr_val_preds, squared=False)\n",
    "print(f\"RMSE de LightGBM: {lr_val_rmse:.2f}\")"
   ]
  },
  {
   "cell_type": "code",
   "execution_count": 27,
   "metadata": {},
   "outputs": [
    {
     "name": "stdout",
     "output_type": "stream",
     "text": [
      "RMSE de Árbol de Decisión: 2040.34\n",
      "CPU times: user 1min 28s, sys: 6.33 ms, total: 1min 28s\n",
      "Wall time: 1min 29s\n"
     ]
    }
   ],
   "source": [
    "%%time\n",
    "\n",
    "# --- Árbol de Decisión con RandomizedSearchCV ---\n",
    "param_dist_dt = {\n",
    "    'max_depth': randint(5, 20),\n",
    "    'min_samples_split': randint(2, 10),\n",
    "    'min_samples_leaf': randint(1, 5)\n",
    "}\n",
    "dt_model = DecisionTreeRegressor(random_state=42)\n",
    "dt_random_search = RandomizedSearchCV(dt_model, param_dist_dt, n_iter=10, cv=3, scoring='neg_mean_squared_error', random_state=42)\n",
    "dt_random_search.fit(X_train_preprocessed, y_train)\n",
    "dt_val_preds = dt_random_search.best_estimator_.predict(X_val_preprocessed)\n",
    "dt_val_rmse = mean_squared_error(y_val, dt_val_preds, squared=False)\n",
    "\n",
    "print(f\"RMSE de Árbol de Decisión: {dt_val_rmse:.2f}\")"
   ]
  },
  {
   "cell_type": "code",
   "execution_count": 28,
   "metadata": {},
   "outputs": [
    {
     "name": "stdout",
     "output_type": "stream",
     "text": [
      "RMSE de Random Forest (Optimizado): 2042.76\n",
      "CPU times: user 9min 47s, sys: 50.7 ms, total: 9min 47s\n",
      "Wall time: 9min 47s\n"
     ]
    }
   ],
   "source": [
    "%%time\n",
    "# --- Random Forest con optimización ---\n",
    "# Parámetros optimizados\n",
    "\n",
    "param_dist_rf = {\n",
    "    'n_estimators': [50, 100],  # Menos opciones\n",
    "    'max_depth': [10, 15],     # Reducir opciones\n",
    "    'min_samples_split': [2, 5],\n",
    "    'min_samples_leaf': [1, 2]\n",
    "}\n",
    "\n",
    "# Modelo Random Forest\n",
    "rf_model = RandomForestRegressor(random_state=42)\n",
    "\n",
    "# RandomizedSearchCV con parámetros optimizados\n",
    "rf_random_search = RandomizedSearchCV(\n",
    "    rf_model,\n",
    "    param_dist_rf,\n",
    "    n_iter=3,  # Reducir iteraciones\n",
    "    cv=2,      # Menos pliegues\n",
    "    scoring='neg_mean_squared_error',\n",
    "    random_state=42,\n",
    "    n_jobs=-1   # Usar todos los núcleos disponibles\n",
    ")\n",
    "\n",
    "# Ajustar Random Forest\n",
    "rf_random_search.fit(X_train_preprocessed, y_train)\n",
    "\n",
    "# Predicciones y RMSE\n",
    "rf_val_preds = rf_random_search.best_estimator_.predict(X_val_preprocessed)\n",
    "rf_val_rmse = mean_squared_error(y_val, rf_val_preds, squared=False)\n",
    "\n",
    "print(f\"RMSE de Random Forest (Optimizado): {rf_val_rmse:.2f}\")"
   ]
  },
  {
   "cell_type": "code",
   "execution_count": 29,
   "metadata": {},
   "outputs": [
    {
     "name": "stdout",
     "output_type": "stream",
     "text": [
      "RMSE de LightGBM: 1914.27\n",
      "CPU times: user 11.2 s, sys: 38.3 ms, total: 11.2 s\n",
      "Wall time: 11.2 s\n"
     ]
    }
   ],
   "source": [
    "%%time\n",
    "\n",
    "# Parámetros ajustados \n",
    "param_dist_lgbm = {\n",
    "    'n_estimators': randint(50, 100),  # Reducir iteraciones\n",
    "    'learning_rate': [0.05, 0.1],     # Reducir opciones de tasa de aprendizaje\n",
    "    'num_leaves': randint(20, 30)     # Reducir rango de hojas\n",
    "}\n",
    "\n",
    "lgbm_model = LGBMRegressor(random_state=42)\n",
    "lgbm_random_search = RandomizedSearchCV(\n",
    "    lgbm_model,\n",
    "    param_dist_lgbm,\n",
    "    n_iter=3,  # Menos iteraciones\n",
    "    cv=2,  # Menos pliegues en validación cruzada\n",
    "    scoring='neg_mean_squared_error',\n",
    "    random_state=42,\n",
    "    n_jobs=-1\n",
    ")\n",
    "\n",
    "# Ajustar el modelo\n",
    "lgbm_random_search.fit(X_train_preprocessed, y_train)\n",
    "\n",
    "# Predicciones y RMSE en Validación\n",
    "lgbm_val_preds = lgbm_random_search.best_estimator_.predict(X_val_preprocessed)\n",
    "lgbm_val_rmse = mean_squared_error(y_val, lgbm_val_preds, squared=False)\n",
    "print(f\"RMSE de LightGBM: {lgbm_val_rmse:.2f}\")"
   ]
  },
  {
   "cell_type": "code",
   "execution_count": 30,
   "metadata": {},
   "outputs": [
    {
     "name": "stdout",
     "output_type": "stream",
     "text": [
      "\n",
      "Resultados comparativos en Validación:\n",
      "              Modelo  RMSE Validación\n",
      "0   Regresión Lineal      3175.875984\n",
      "1  Árbol de Decisión      2040.336696\n",
      "2      Random Forest      2042.764484\n",
      "3           LightGBM      1914.267857\n"
     ]
    }
   ],
   "source": [
    "# --- Comparar Resultados ---\n",
    "\n",
    "results = pd.DataFrame({\n",
    "    'Modelo': ['Regresión Lineal', 'Árbol de Decisión', 'Random Forest', 'LightGBM'],\n",
    "    'RMSE Validación': [lr_val_rmse, dt_val_rmse, rf_val_rmse, lgbm_val_rmse]\n",
    "})\n",
    "print(\"\\nResultados comparativos en Validación:\")\n",
    "print(results)\n"
   ]
  },
  {
   "cell_type": "code",
   "execution_count": 31,
   "metadata": {},
   "outputs": [
    {
     "name": "stdout",
     "output_type": "stream",
     "text": [
      "RMSE de Random Forest en Prueba: 2008.74\n"
     ]
    }
   ],
   "source": [
    "# Evaluación final en el conjunto de prueba\n",
    "rf_test_preds = rf_random_search.best_estimator_.predict(X_test_preprocessed)\n",
    "rf_test_rmse = mean_squared_error(y_test, rf_test_preds, squared=False)\n",
    "\n",
    "print(f\"RMSE de Random Forest en Prueba: {rf_test_rmse:.2f}\")"
   ]
  },
  {
   "cell_type": "code",
   "execution_count": 32,
   "metadata": {},
   "outputs": [
    {
     "data": {
      "image/png": "[encoded data removed]",
      "text/plain": [
       "<Figure size 1000x600 with 1 Axes>"
      ]
     },
     "metadata": {},
     "output_type": "display_data"
    }
   ],
   "source": [
    "\n",
    "# Gráfico de comparación\n",
    "plt.figure(figsize=(10, 6))\n",
    "sns.barplot(data=results, x='Modelo', y='RMSE Validación')\n",
    "plt.title('Comparación de RMSE entre Modelos en Validación')\n",
    "plt.ylabel('RMSE')\n",
    "plt.show()"
   ]
  },
  {
   "cell_type": "markdown",
   "metadata": {},
   "source": [
    "# Lista de control"
   ]
  },
  {
   "cell_type": "markdown",
   "metadata": {},
   "source": [
    "Escribe 'x' para verificar. Luego presiona Shift+Enter"
   ]
  },
  {
   "cell_type": "markdown",
   "metadata": {},
   "source": [
    "- [x]  Jupyter Notebook está abierto\n",
    "- [ ]  El código no tiene errores- [ ]  Las celdas con el código han sido colocadas en orden de ejecución- [ ]  Los datos han sido descargados y preparados- [ ]  Los modelos han sido entrenados\n",
    "- [ ]  Se realizó el análisis de velocidad y calidad de los modelos"
   ]
  }
 ],
 "metadata": {
  "ExecuteTimeLog": [
   {
    "duration": 306,
    "start_time": "2024-11-29T03:48:50.101Z"
   },
   {
    "duration": 454,
    "start_time": "2024-11-29T03:51:57.578Z"
   },
   {
    "duration": 92,
    "start_time": "2024-11-29T03:52:50.538Z"
   },
   {
    "duration": 14,
    "start_time": "2024-11-29T03:53:00.093Z"
   },
   {
    "duration": 106,
    "start_time": "2024-11-29T03:53:44.748Z"
   },
   {
    "duration": 175,
    "start_time": "2024-11-29T03:54:25.138Z"
   },
   {
    "duration": 103,
    "start_time": "2024-11-29T03:54:52.378Z"
   },
   {
    "duration": 87,
    "start_time": "2024-11-29T03:55:02.081Z"
   },
   {
    "duration": 161,
    "start_time": "2024-11-29T16:38:39.633Z"
   },
   {
    "duration": 304,
    "start_time": "2024-11-29T16:38:43.723Z"
   },
   {
    "duration": 453,
    "start_time": "2024-11-29T16:38:46.051Z"
   },
   {
    "duration": 15,
    "start_time": "2024-11-29T16:38:53.099Z"
   },
   {
    "duration": 105,
    "start_time": "2024-11-29T16:39:06.071Z"
   },
   {
    "duration": 91,
    "start_time": "2024-11-29T16:39:16.851Z"
   },
   {
    "duration": 11,
    "start_time": "2024-11-29T16:49:01.842Z"
   },
   {
    "duration": 2,
    "start_time": "2024-11-29T17:10:36.674Z"
   },
   {
    "duration": 2,
    "start_time": "2024-11-29T17:11:04.438Z"
   },
   {
    "duration": 397,
    "start_time": "2024-11-29T17:11:17.045Z"
   },
   {
    "duration": 40,
    "start_time": "2024-11-29T17:20:57.500Z"
   },
   {
    "duration": 55,
    "start_time": "2024-11-29T17:21:39.115Z"
   },
   {
    "duration": 87,
    "start_time": "2024-11-29T17:22:44.487Z"
   },
   {
    "duration": 96,
    "start_time": "2024-11-29T17:23:20.662Z"
   },
   {
    "duration": 88,
    "start_time": "2024-11-29T17:23:41.593Z"
   },
   {
    "duration": 4,
    "start_time": "2024-11-29T17:24:22.657Z"
   },
   {
    "duration": 5,
    "start_time": "2024-11-29T17:24:34.617Z"
   },
   {
    "duration": 6,
    "start_time": "2024-11-29T17:24:42.213Z"
   },
   {
    "duration": 8,
    "start_time": "2024-11-29T17:24:47.539Z"
   },
   {
    "duration": 4,
    "start_time": "2024-11-29T17:28:16.536Z"
   },
   {
    "duration": 227,
    "start_time": "2024-11-29T18:08:11.238Z"
   },
   {
    "duration": 5,
    "start_time": "2024-11-29T20:12:11.287Z"
   },
   {
    "duration": 6,
    "start_time": "2024-11-29T20:19:55.918Z"
   },
   {
    "duration": 6,
    "start_time": "2024-11-29T20:20:58.466Z"
   },
   {
    "duration": 5,
    "start_time": "2024-11-29T20:22:57.031Z"
   },
   {
    "duration": 6,
    "start_time": "2024-11-29T20:23:19.638Z"
   },
   {
    "duration": 3,
    "start_time": "2024-11-29T20:23:26.825Z"
   },
   {
    "duration": 5,
    "start_time": "2024-11-29T20:23:32.522Z"
   },
   {
    "duration": 5,
    "start_time": "2024-11-29T20:23:36.686Z"
   },
   {
    "duration": 3,
    "start_time": "2024-11-29T20:59:47.650Z"
   },
   {
    "duration": 3,
    "start_time": "2024-11-29T21:00:29.250Z"
   },
   {
    "duration": 17,
    "start_time": "2024-11-29T21:08:23.300Z"
   },
   {
    "duration": 7,
    "start_time": "2024-11-29T21:10:39.214Z"
   },
   {
    "duration": 266,
    "start_time": "2024-11-29T21:12:43.317Z"
   },
   {
    "duration": 401,
    "start_time": "2024-11-29T21:12:43.585Z"
   },
   {
    "duration": 23,
    "start_time": "2024-11-29T21:12:43.987Z"
   },
   {
    "duration": 100,
    "start_time": "2024-11-29T21:12:44.011Z"
   },
   {
    "duration": 95,
    "start_time": "2024-11-29T21:12:44.113Z"
   },
   {
    "duration": 61,
    "start_time": "2024-11-29T21:12:44.210Z"
   },
   {
    "duration": 93,
    "start_time": "2024-11-29T21:12:44.272Z"
   },
   {
    "duration": 4,
    "start_time": "2024-11-29T21:12:44.367Z"
   },
   {
    "duration": 3,
    "start_time": "2024-11-29T21:12:44.373Z"
   },
   {
    "duration": 3,
    "start_time": "2024-11-29T21:12:44.378Z"
   },
   {
    "duration": 6,
    "start_time": "2024-11-29T21:12:44.383Z"
   },
   {
    "duration": 76,
    "start_time": "2024-11-29T21:13:36.896Z"
   },
   {
    "duration": 85,
    "start_time": "2024-11-29T21:16:42.896Z"
   },
   {
    "duration": 6,
    "start_time": "2024-11-29T21:17:46.605Z"
   },
   {
    "duration": 88,
    "start_time": "2024-11-29T21:17:53.167Z"
   },
   {
    "duration": 17,
    "start_time": "2024-11-29T21:18:14.175Z"
   },
   {
    "duration": 217,
    "start_time": "2024-11-29T21:19:37.181Z"
   },
   {
    "duration": 242,
    "start_time": "2024-11-29T21:20:03.040Z"
   },
   {
    "duration": 228,
    "start_time": "2024-11-29T21:20:07.840Z"
   },
   {
    "duration": 17,
    "start_time": "2024-11-29T21:20:17.379Z"
   },
   {
    "duration": 56,
    "start_time": "2024-11-29T21:20:51.242Z"
   },
   {
    "duration": 94,
    "start_time": "2024-11-29T22:17:03.100Z"
   },
   {
    "duration": 13,
    "start_time": "2024-11-29T22:17:44.941Z"
   },
   {
    "duration": 16,
    "start_time": "2024-11-29T22:18:14.318Z"
   },
   {
    "duration": 13,
    "start_time": "2024-11-29T22:18:20.622Z"
   },
   {
    "duration": 447,
    "start_time": "2024-11-29T22:20:15.908Z"
   },
   {
    "duration": 13,
    "start_time": "2024-11-29T22:25:48.628Z"
   },
   {
    "duration": 16,
    "start_time": "2024-11-29T22:25:59.644Z"
   },
   {
    "duration": 2,
    "start_time": "2024-11-29T22:26:02.111Z"
   },
   {
    "duration": 145,
    "start_time": "2024-11-29T22:26:07.283Z"
   },
   {
    "duration": 408,
    "start_time": "2024-11-29T22:26:32.215Z"
   },
   {
    "duration": 34,
    "start_time": "2024-11-29T22:26:40.710Z"
   },
   {
    "duration": 3,
    "start_time": "2024-11-29T22:27:15.582Z"
   },
   {
    "duration": 16,
    "start_time": "2024-11-29T22:28:32.205Z"
   },
   {
    "duration": 4,
    "start_time": "2024-11-29T22:31:59.029Z"
   },
   {
    "duration": 9981,
    "start_time": "2024-11-29T22:32:13.674Z"
   },
   {
    "duration": 5,
    "start_time": "2024-11-29T22:32:45.730Z"
   },
   {
    "duration": 10266,
    "start_time": "2024-11-29T22:32:55.267Z"
   },
   {
    "duration": 15,
    "start_time": "2024-11-29T22:35:46.840Z"
   },
   {
    "duration": 3360,
    "start_time": "2024-11-29T22:36:46.827Z"
   },
   {
    "duration": 8,
    "start_time": "2024-11-29T22:37:46.210Z"
   },
   {
    "duration": 55,
    "start_time": "2024-11-29T23:03:19.793Z"
   },
   {
    "duration": 121140,
    "start_time": "2024-11-29T23:16:10.037Z"
   },
   {
    "duration": 2272,
    "start_time": "2024-11-29T23:18:11.179Z"
   },
   {
    "duration": 6,
    "start_time": "2024-11-29T23:18:13.534Z"
   },
   {
    "duration": 21,
    "start_time": "2024-11-29T23:18:13.541Z"
   },
   {
    "duration": 1881,
    "start_time": "2024-11-29T23:20:54.012Z"
   },
   {
    "duration": 3,
    "start_time": "2024-11-29T23:21:17.768Z"
   },
   {
    "duration": 23,
    "start_time": "2024-11-29T23:21:37.193Z"
   },
   {
    "duration": 71,
    "start_time": "2024-11-29T23:22:48.092Z"
   },
   {
    "duration": 123,
    "start_time": "2024-11-29T23:22:54.974Z"
   },
   {
    "duration": 10059,
    "start_time": "2024-11-29T23:36:41.483Z"
   },
   {
    "duration": 3,
    "start_time": "2024-11-29T23:36:53.195Z"
   },
   {
    "duration": 3268,
    "start_time": "2024-11-29T23:37:18.386Z"
   },
   {
    "duration": 158,
    "start_time": "2024-12-01T00:58:31.995Z"
   },
   {
    "duration": 2653,
    "start_time": "2024-12-01T00:58:43.968Z"
   },
   {
    "duration": 466,
    "start_time": "2024-12-01T00:58:46.623Z"
   },
   {
    "duration": 27,
    "start_time": "2024-12-01T00:58:47.090Z"
   },
   {
    "duration": 122,
    "start_time": "2024-12-01T00:58:47.119Z"
   },
   {
    "duration": 102,
    "start_time": "2024-12-01T00:58:47.245Z"
   },
   {
    "duration": 64,
    "start_time": "2024-12-01T00:58:47.349Z"
   },
   {
    "duration": 99,
    "start_time": "2024-12-01T00:58:47.415Z"
   },
   {
    "duration": 232,
    "start_time": "2024-12-01T00:58:47.516Z"
   },
   {
    "duration": 255,
    "start_time": "2024-12-01T00:58:47.750Z"
   },
   {
    "duration": 232,
    "start_time": "2024-12-01T00:58:48.007Z"
   },
   {
    "duration": 67,
    "start_time": "2024-12-01T00:58:48.242Z"
   },
   {
    "duration": 22,
    "start_time": "2024-12-01T00:58:48.311Z"
   },
   {
    "duration": 14,
    "start_time": "2024-12-01T00:58:48.335Z"
   },
   {
    "duration": 303,
    "start_time": "2024-12-01T00:58:48.352Z"
   },
   {
    "duration": 0,
    "start_time": "2024-12-01T00:58:48.656Z"
   },
   {
    "duration": 0,
    "start_time": "2024-12-01T00:58:48.657Z"
   },
   {
    "duration": 0,
    "start_time": "2024-12-01T00:58:48.659Z"
   },
   {
    "duration": 0,
    "start_time": "2024-12-01T00:58:48.660Z"
   },
   {
    "duration": 0,
    "start_time": "2024-12-01T00:58:48.661Z"
   },
   {
    "duration": 0,
    "start_time": "2024-12-01T00:58:48.661Z"
   },
   {
    "duration": 0,
    "start_time": "2024-12-01T00:58:48.662Z"
   },
   {
    "duration": 0,
    "start_time": "2024-12-01T00:58:48.663Z"
   },
   {
    "duration": 0,
    "start_time": "2024-12-01T00:58:48.663Z"
   },
   {
    "duration": 0,
    "start_time": "2024-12-01T00:58:48.664Z"
   },
   {
    "duration": 16,
    "start_time": "2024-12-01T00:59:35.707Z"
   },
   {
    "duration": 2,
    "start_time": "2024-12-01T00:59:39.508Z"
   },
   {
    "duration": 1002,
    "start_time": "2024-12-01T00:59:50.381Z"
   },
   {
    "duration": 402,
    "start_time": "2024-12-01T00:59:51.385Z"
   },
   {
    "duration": 26,
    "start_time": "2024-12-01T00:59:51.789Z"
   },
   {
    "duration": 103,
    "start_time": "2024-12-01T00:59:51.816Z"
   },
   {
    "duration": 96,
    "start_time": "2024-12-01T00:59:51.921Z"
   },
   {
    "duration": 54,
    "start_time": "2024-12-01T00:59:52.019Z"
   },
   {
    "duration": 100,
    "start_time": "2024-12-01T00:59:52.075Z"
   },
   {
    "duration": 227,
    "start_time": "2024-12-01T00:59:52.176Z"
   },
   {
    "duration": 253,
    "start_time": "2024-12-01T00:59:52.405Z"
   },
   {
    "duration": 231,
    "start_time": "2024-12-01T00:59:52.660Z"
   },
   {
    "duration": 63,
    "start_time": "2024-12-01T00:59:52.893Z"
   },
   {
    "duration": 23,
    "start_time": "2024-12-01T00:59:52.957Z"
   },
   {
    "duration": 28,
    "start_time": "2024-12-01T00:59:52.981Z"
   },
   {
    "duration": 16,
    "start_time": "2024-12-01T00:59:53.013Z"
   },
   {
    "duration": 3,
    "start_time": "2024-12-01T00:59:53.030Z"
   },
   {
    "duration": 437,
    "start_time": "2024-12-01T00:59:53.034Z"
   },
   {
    "duration": 45,
    "start_time": "2024-12-01T00:59:53.472Z"
   },
   {
    "duration": 9706,
    "start_time": "2024-12-01T00:59:53.519Z"
   },
   {
    "duration": 3335,
    "start_time": "2024-12-01T01:00:03.229Z"
   },
   {
    "duration": 117634,
    "start_time": "2024-12-01T01:00:06.565Z"
   },
   {
    "duration": 139,
    "start_time": "2024-12-01T01:02:17.175Z"
   },
   {
    "duration": 182,
    "start_time": "2024-12-01T01:09:10.943Z"
   },
   {
    "duration": 387,
    "start_time": "2024-12-01T01:15:09.798Z"
   },
   {
    "duration": 50,
    "start_time": "2024-12-01T01:15:16.949Z"
   },
   {
    "duration": 996,
    "start_time": "2024-12-01T01:15:33.193Z"
   },
   {
    "duration": 413,
    "start_time": "2024-12-01T01:15:34.192Z"
   },
   {
    "duration": 21,
    "start_time": "2024-12-01T01:15:34.609Z"
   },
   {
    "duration": 102,
    "start_time": "2024-12-01T01:15:34.633Z"
   },
   {
    "duration": 96,
    "start_time": "2024-12-01T01:15:34.737Z"
   },
   {
    "duration": 55,
    "start_time": "2024-12-01T01:15:34.835Z"
   },
   {
    "duration": 101,
    "start_time": "2024-12-01T01:15:34.892Z"
   },
   {
    "duration": 228,
    "start_time": "2024-12-01T01:15:34.995Z"
   },
   {
    "duration": 260,
    "start_time": "2024-12-01T01:15:35.225Z"
   },
   {
    "duration": 233,
    "start_time": "2024-12-01T01:15:35.488Z"
   },
   {
    "duration": 61,
    "start_time": "2024-12-01T01:15:35.723Z"
   },
   {
    "duration": 35,
    "start_time": "2024-12-01T01:15:35.785Z"
   },
   {
    "duration": 14,
    "start_time": "2024-12-01T01:15:35.822Z"
   },
   {
    "duration": 15,
    "start_time": "2024-12-01T01:15:35.838Z"
   },
   {
    "duration": 3,
    "start_time": "2024-12-01T01:15:35.856Z"
   },
   {
    "duration": 256,
    "start_time": "2024-12-01T01:15:35.861Z"
   },
   {
    "duration": 0,
    "start_time": "2024-12-01T01:15:36.119Z"
   },
   {
    "duration": 0,
    "start_time": "2024-12-01T01:15:36.120Z"
   },
   {
    "duration": 0,
    "start_time": "2024-12-01T01:15:36.121Z"
   },
   {
    "duration": 0,
    "start_time": "2024-12-01T01:15:36.122Z"
   },
   {
    "duration": 0,
    "start_time": "2024-12-01T01:15:36.124Z"
   },
   {
    "duration": 0,
    "start_time": "2024-12-01T01:15:36.125Z"
   },
   {
    "duration": 0,
    "start_time": "2024-12-01T01:15:36.126Z"
   },
   {
    "duration": 0,
    "start_time": "2024-12-01T01:15:36.127Z"
   },
   {
    "duration": 0,
    "start_time": "2024-12-01T01:15:36.127Z"
   },
   {
    "duration": 16,
    "start_time": "2024-12-01T01:18:34.616Z"
   },
   {
    "duration": 2,
    "start_time": "2024-12-01T01:18:43.333Z"
   },
   {
    "duration": 16,
    "start_time": "2024-12-01T01:19:09.675Z"
   },
   {
    "duration": 3,
    "start_time": "2024-12-01T01:19:26.995Z"
   },
   {
    "duration": 16,
    "start_time": "2024-12-01T01:19:43.886Z"
   },
   {
    "duration": 2,
    "start_time": "2024-12-01T01:19:55.086Z"
   },
   {
    "duration": 18,
    "start_time": "2024-12-01T01:20:02.308Z"
   },
   {
    "duration": 7,
    "start_time": "2024-12-01T01:22:02.628Z"
   },
   {
    "duration": 139,
    "start_time": "2024-12-01T01:22:21.842Z"
   },
   {
    "duration": 413,
    "start_time": "2024-12-01T01:23:14.062Z"
   },
   {
    "duration": 2,
    "start_time": "2024-12-01T01:23:25.605Z"
   },
   {
    "duration": 401,
    "start_time": "2024-12-01T01:23:28.699Z"
   },
   {
    "duration": 3,
    "start_time": "2024-12-01T01:24:49.385Z"
   },
   {
    "duration": 3,
    "start_time": "2024-12-01T01:25:14.073Z"
   },
   {
    "duration": 53,
    "start_time": "2024-12-01T01:26:08.064Z"
   },
   {
    "duration": 3,
    "start_time": "2024-12-01T01:26:34.984Z"
   },
   {
    "duration": 13,
    "start_time": "2024-12-01T01:26:37.762Z"
   },
   {
    "duration": 122,
    "start_time": "2024-12-01T01:26:40.178Z"
   },
   {
    "duration": 410,
    "start_time": "2024-12-01T01:26:43.256Z"
   },
   {
    "duration": 3,
    "start_time": "2024-12-01T01:26:45.465Z"
   },
   {
    "duration": 37,
    "start_time": "2024-12-01T01:26:51.085Z"
   },
   {
    "duration": 1014,
    "start_time": "2024-12-01T01:28:01.180Z"
   },
   {
    "duration": 404,
    "start_time": "2024-12-01T01:28:02.197Z"
   },
   {
    "duration": 25,
    "start_time": "2024-12-01T01:28:02.603Z"
   },
   {
    "duration": 111,
    "start_time": "2024-12-01T01:28:02.630Z"
   },
   {
    "duration": 96,
    "start_time": "2024-12-01T01:28:02.745Z"
   },
   {
    "duration": 54,
    "start_time": "2024-12-01T01:28:02.843Z"
   },
   {
    "duration": 96,
    "start_time": "2024-12-01T01:28:02.898Z"
   },
   {
    "duration": 230,
    "start_time": "2024-12-01T01:28:02.996Z"
   },
   {
    "duration": 255,
    "start_time": "2024-12-01T01:28:03.228Z"
   },
   {
    "duration": 226,
    "start_time": "2024-12-01T01:28:03.485Z"
   },
   {
    "duration": 57,
    "start_time": "2024-12-01T01:28:03.713Z"
   },
   {
    "duration": 37,
    "start_time": "2024-12-01T01:28:03.772Z"
   },
   {
    "duration": 15,
    "start_time": "2024-12-01T01:28:03.811Z"
   },
   {
    "duration": 4,
    "start_time": "2024-12-01T01:28:03.831Z"
   },
   {
    "duration": 16,
    "start_time": "2024-12-01T01:28:03.836Z"
   },
   {
    "duration": 155,
    "start_time": "2024-12-01T01:28:03.854Z"
   },
   {
    "duration": 398,
    "start_time": "2024-12-01T01:28:04.011Z"
   },
   {
    "duration": 3,
    "start_time": "2024-12-01T01:28:04.410Z"
   },
   {
    "duration": 175,
    "start_time": "2024-12-01T01:28:04.415Z"
   },
   {
    "duration": 46,
    "start_time": "2024-12-01T01:28:04.592Z"
   },
   {
    "duration": 37,
    "start_time": "2024-12-01T01:28:04.641Z"
   },
   {
    "duration": 494,
    "start_time": "2024-12-01T01:28:04.679Z"
   },
   {
    "duration": 88,
    "start_time": "2024-12-01T01:28:05.175Z"
   },
   {
    "duration": 0,
    "start_time": "2024-12-01T01:28:05.265Z"
   },
   {
    "duration": 0,
    "start_time": "2024-12-01T01:28:05.266Z"
   },
   {
    "duration": 0,
    "start_time": "2024-12-01T01:28:05.267Z"
   },
   {
    "duration": 13,
    "start_time": "2024-12-01T01:36:00.168Z"
   },
   {
    "duration": 2,
    "start_time": "2024-12-01T01:36:08.750Z"
   },
   {
    "duration": 17,
    "start_time": "2024-12-01T01:37:14.188Z"
   },
   {
    "duration": 404,
    "start_time": "2024-12-01T01:37:32.725Z"
   },
   {
    "duration": 38,
    "start_time": "2024-12-01T01:38:11.339Z"
   },
   {
    "duration": 1074,
    "start_time": "2024-12-01T01:39:09.363Z"
   },
   {
    "duration": 410,
    "start_time": "2024-12-01T01:39:10.440Z"
   },
   {
    "duration": 21,
    "start_time": "2024-12-01T01:39:10.852Z"
   },
   {
    "duration": 117,
    "start_time": "2024-12-01T01:39:10.875Z"
   },
   {
    "duration": 99,
    "start_time": "2024-12-01T01:39:10.993Z"
   },
   {
    "duration": 63,
    "start_time": "2024-12-01T01:39:11.094Z"
   },
   {
    "duration": 101,
    "start_time": "2024-12-01T01:39:11.159Z"
   },
   {
    "duration": 237,
    "start_time": "2024-12-01T01:39:11.262Z"
   },
   {
    "duration": 266,
    "start_time": "2024-12-01T01:39:11.501Z"
   },
   {
    "duration": 245,
    "start_time": "2024-12-01T01:39:11.772Z"
   },
   {
    "duration": 63,
    "start_time": "2024-12-01T01:39:12.019Z"
   },
   {
    "duration": 35,
    "start_time": "2024-12-01T01:39:12.084Z"
   },
   {
    "duration": 16,
    "start_time": "2024-12-01T01:39:12.121Z"
   },
   {
    "duration": 17,
    "start_time": "2024-12-01T01:39:12.139Z"
   },
   {
    "duration": 3,
    "start_time": "2024-12-01T01:39:12.158Z"
   },
   {
    "duration": 446,
    "start_time": "2024-12-01T01:39:12.163Z"
   },
   {
    "duration": 39,
    "start_time": "2024-12-01T01:39:12.611Z"
   },
   {
    "duration": 11573,
    "start_time": "2024-12-01T01:39:12.652Z"
   },
   {
    "duration": 3461,
    "start_time": "2024-12-01T01:39:24.226Z"
   },
   {
    "duration": 119430,
    "start_time": "2024-12-01T01:39:27.689Z"
   },
   {
    "duration": 2096,
    "start_time": "2024-12-01T01:41:27.121Z"
   },
   {
    "duration": 5,
    "start_time": "2024-12-01T01:41:29.221Z"
   },
   {
    "duration": 167,
    "start_time": "2024-12-01T01:41:29.227Z"
   },
   {
    "duration": 125,
    "start_time": "2024-12-01T01:41:29.396Z"
   },
   {
    "duration": 189,
    "start_time": "2024-12-01T01:41:29.523Z"
   },
   {
    "duration": 3,
    "start_time": "2024-12-01T01:43:12.285Z"
   },
   {
    "duration": 464,
    "start_time": "2024-12-01T01:43:15.539Z"
   },
   {
    "duration": 47,
    "start_time": "2024-12-01T01:44:07.825Z"
   },
   {
    "duration": 393,
    "start_time": "2024-12-01T01:44:58.221Z"
   },
   {
    "duration": 6,
    "start_time": "2024-12-01T01:49:41.829Z"
   },
   {
    "duration": 5,
    "start_time": "2024-12-01T01:49:56.319Z"
   },
   {
    "duration": 36,
    "start_time": "2024-12-01T01:50:05.711Z"
   },
   {
    "duration": 10729,
    "start_time": "2024-12-01T01:50:21.505Z"
   },
   {
    "duration": 3400,
    "start_time": "2024-12-01T01:50:32.237Z"
   },
   {
    "duration": 10972,
    "start_time": "2024-12-01T01:51:01.048Z"
   },
   {
    "duration": 225,
    "start_time": "2024-12-01T01:55:30.850Z"
   },
   {
    "duration": 115,
    "start_time": "2024-12-01T01:56:46.373Z"
   },
   {
    "duration": 123,
    "start_time": "2024-12-01T02:05:47.034Z"
   },
   {
    "duration": 408,
    "start_time": "2024-12-01T02:06:37.171Z"
   },
   {
    "duration": 8419,
    "start_time": "2024-12-01T02:07:01.013Z"
   },
   {
    "duration": 8132,
    "start_time": "2024-12-01T02:08:30.578Z"
   },
   {
    "duration": 51099,
    "start_time": "2024-12-01T02:11:22.920Z"
   },
   {
    "duration": 18,
    "start_time": "2024-12-01T02:12:35.837Z"
   },
   {
    "duration": 3,
    "start_time": "2024-12-01T02:13:07.375Z"
   },
   {
    "duration": 1013,
    "start_time": "2024-12-01T02:18:24.890Z"
   },
   {
    "duration": 406,
    "start_time": "2024-12-01T02:18:25.908Z"
   },
   {
    "duration": 21,
    "start_time": "2024-12-01T02:18:26.315Z"
   },
   {
    "duration": 100,
    "start_time": "2024-12-01T02:18:26.338Z"
   },
   {
    "duration": 100,
    "start_time": "2024-12-01T02:18:26.441Z"
   },
   {
    "duration": 55,
    "start_time": "2024-12-01T02:18:26.542Z"
   },
   {
    "duration": 97,
    "start_time": "2024-12-01T02:18:26.598Z"
   },
   {
    "duration": 232,
    "start_time": "2024-12-01T02:18:26.697Z"
   },
   {
    "duration": 253,
    "start_time": "2024-12-01T02:18:26.930Z"
   },
   {
    "duration": 254,
    "start_time": "2024-12-01T02:18:27.188Z"
   },
   {
    "duration": 71,
    "start_time": "2024-12-01T02:18:27.445Z"
   },
   {
    "duration": 21,
    "start_time": "2024-12-01T02:18:27.518Z"
   },
   {
    "duration": 15,
    "start_time": "2024-12-01T02:18:27.541Z"
   },
   {
    "duration": 16,
    "start_time": "2024-12-01T02:18:27.559Z"
   },
   {
    "duration": 3,
    "start_time": "2024-12-01T02:18:27.576Z"
   },
   {
    "duration": 452,
    "start_time": "2024-12-01T02:18:27.580Z"
   },
   {
    "duration": 271,
    "start_time": "2024-12-01T02:18:28.034Z"
   },
   {
    "duration": 0,
    "start_time": "2024-12-01T02:18:28.309Z"
   },
   {
    "duration": 0,
    "start_time": "2024-12-01T02:18:28.311Z"
   },
   {
    "duration": 0,
    "start_time": "2024-12-01T02:18:28.312Z"
   },
   {
    "duration": 0,
    "start_time": "2024-12-01T02:18:28.314Z"
   },
   {
    "duration": 0,
    "start_time": "2024-12-01T02:18:28.315Z"
   },
   {
    "duration": 0,
    "start_time": "2024-12-01T02:18:28.316Z"
   },
   {
    "duration": 0,
    "start_time": "2024-12-01T02:18:28.318Z"
   },
   {
    "duration": 0,
    "start_time": "2024-12-01T02:18:28.319Z"
   },
   {
    "duration": 0,
    "start_time": "2024-12-01T02:18:28.321Z"
   },
   {
    "duration": 0,
    "start_time": "2024-12-01T02:18:28.322Z"
   },
   {
    "duration": 0,
    "start_time": "2024-12-01T02:18:28.324Z"
   },
   {
    "duration": 0,
    "start_time": "2024-12-01T02:18:28.325Z"
   },
   {
    "duration": 0,
    "start_time": "2024-12-01T02:18:28.326Z"
   },
   {
    "duration": 0,
    "start_time": "2024-12-01T02:18:28.328Z"
   },
   {
    "duration": 0,
    "start_time": "2024-12-01T02:18:28.329Z"
   },
   {
    "duration": 38,
    "start_time": "2024-12-01T02:19:04.050Z"
   },
   {
    "duration": 1017,
    "start_time": "2024-12-01T02:21:43.401Z"
   },
   {
    "duration": 423,
    "start_time": "2024-12-01T02:21:44.420Z"
   },
   {
    "duration": 21,
    "start_time": "2024-12-01T02:21:44.844Z"
   },
   {
    "duration": 100,
    "start_time": "2024-12-01T02:21:44.866Z"
   },
   {
    "duration": 101,
    "start_time": "2024-12-01T02:21:44.970Z"
   },
   {
    "duration": 61,
    "start_time": "2024-12-01T02:21:45.073Z"
   },
   {
    "duration": 94,
    "start_time": "2024-12-01T02:21:45.136Z"
   },
   {
    "duration": 226,
    "start_time": "2024-12-01T02:21:45.231Z"
   },
   {
    "duration": 244,
    "start_time": "2024-12-01T02:21:45.459Z"
   },
   {
    "duration": 214,
    "start_time": "2024-12-01T02:21:45.705Z"
   },
   {
    "duration": 57,
    "start_time": "2024-12-01T02:21:45.921Z"
   },
   {
    "duration": 36,
    "start_time": "2024-12-01T02:21:45.980Z"
   },
   {
    "duration": 14,
    "start_time": "2024-12-01T02:21:46.018Z"
   },
   {
    "duration": 16,
    "start_time": "2024-12-01T02:21:46.036Z"
   },
   {
    "duration": 3,
    "start_time": "2024-12-01T02:21:46.054Z"
   },
   {
    "duration": 435,
    "start_time": "2024-12-01T02:21:46.058Z"
   },
   {
    "duration": 45,
    "start_time": "2024-12-01T02:21:46.495Z"
   },
   {
    "duration": 11176,
    "start_time": "2024-12-01T02:21:46.542Z"
   },
   {
    "duration": 3364,
    "start_time": "2024-12-01T02:21:57.720Z"
   },
   {
    "duration": 119282,
    "start_time": "2024-12-01T02:22:01.086Z"
   },
   {
    "duration": 2138,
    "start_time": "2024-12-01T02:24:00.370Z"
   },
   {
    "duration": 5,
    "start_time": "2024-12-01T02:24:02.512Z"
   },
   {
    "duration": 134,
    "start_time": "2024-12-01T02:24:02.519Z"
   },
   {
    "duration": 122,
    "start_time": "2024-12-01T02:24:02.654Z"
   },
   {
    "duration": 390,
    "start_time": "2024-12-01T02:24:02.778Z"
   },
   {
    "duration": 8540,
    "start_time": "2024-12-01T02:24:03.170Z"
   },
   {
    "duration": 51198,
    "start_time": "2024-12-01T02:24:11.712Z"
   },
   {
    "duration": 501914,
    "start_time": "2024-12-01T02:25:02.912Z"
   },
   {
    "duration": 3081,
    "start_time": "2024-12-01T02:33:24.828Z"
   },
   {
    "duration": 101,
    "start_time": "2024-12-01T02:33:27.912Z"
   },
   {
    "duration": 0,
    "start_time": "2024-12-01T02:33:28.015Z"
   },
   {
    "duration": 0,
    "start_time": "2024-12-01T02:33:28.016Z"
   },
   {
    "duration": 0,
    "start_time": "2024-12-01T02:33:28.018Z"
   },
   {
    "duration": 1060,
    "start_time": "2024-12-01T02:33:53.125Z"
   },
   {
    "duration": 404,
    "start_time": "2024-12-01T02:33:54.187Z"
   },
   {
    "duration": 25,
    "start_time": "2024-12-01T02:33:54.593Z"
   },
   {
    "duration": 101,
    "start_time": "2024-12-01T02:33:54.621Z"
   },
   {
    "duration": 90,
    "start_time": "2024-12-01T02:33:54.724Z"
   },
   {
    "duration": 54,
    "start_time": "2024-12-01T02:33:54.816Z"
   },
   {
    "duration": 99,
    "start_time": "2024-12-01T02:33:54.872Z"
   },
   {
    "duration": 236,
    "start_time": "2024-12-01T02:33:54.973Z"
   },
   {
    "duration": 257,
    "start_time": "2024-12-01T02:33:55.211Z"
   },
   {
    "duration": 238,
    "start_time": "2024-12-01T02:33:55.471Z"
   },
   {
    "duration": 59,
    "start_time": "2024-12-01T02:33:55.711Z"
   },
   {
    "duration": 22,
    "start_time": "2024-12-01T02:33:55.772Z"
   },
   {
    "duration": 15,
    "start_time": "2024-12-01T02:33:55.809Z"
   },
   {
    "duration": 16,
    "start_time": "2024-12-01T02:33:55.827Z"
   },
   {
    "duration": 3,
    "start_time": "2024-12-01T02:33:55.845Z"
   },
   {
    "duration": 423,
    "start_time": "2024-12-01T02:33:55.849Z"
   },
   {
    "duration": 42,
    "start_time": "2024-12-01T02:33:56.274Z"
   },
   {
    "duration": 11208,
    "start_time": "2024-12-01T02:33:56.317Z"
   },
   {
    "duration": 3374,
    "start_time": "2024-12-01T02:34:07.527Z"
   },
   {
    "duration": 120007,
    "start_time": "2024-12-01T02:34:10.903Z"
   },
   {
    "duration": 2098,
    "start_time": "2024-12-01T02:36:10.912Z"
   },
   {
    "duration": 5,
    "start_time": "2024-12-01T02:36:13.012Z"
   },
   {
    "duration": 151,
    "start_time": "2024-12-01T02:36:13.019Z"
   },
   {
    "duration": 123,
    "start_time": "2024-12-01T02:36:13.171Z"
   },
   {
    "duration": 407,
    "start_time": "2024-12-01T02:36:13.296Z"
   },
   {
    "duration": 8506,
    "start_time": "2024-12-01T02:36:13.704Z"
   },
   {
    "duration": 246,
    "start_time": "2024-12-01T02:36:22.212Z"
   },
   {
    "duration": 1062,
    "start_time": "2024-12-01T02:38:21.329Z"
   },
   {
    "duration": 402,
    "start_time": "2024-12-01T02:38:22.393Z"
   },
   {
    "duration": 23,
    "start_time": "2024-12-01T02:38:22.797Z"
   },
   {
    "duration": 100,
    "start_time": "2024-12-01T02:38:22.821Z"
   },
   {
    "duration": 101,
    "start_time": "2024-12-01T02:38:22.925Z"
   },
   {
    "duration": 54,
    "start_time": "2024-12-01T02:38:23.027Z"
   },
   {
    "duration": 99,
    "start_time": "2024-12-01T02:38:23.083Z"
   },
   {
    "duration": 229,
    "start_time": "2024-12-01T02:38:23.184Z"
   },
   {
    "duration": 263,
    "start_time": "2024-12-01T02:38:23.415Z"
   },
   {
    "duration": 235,
    "start_time": "2024-12-01T02:38:23.680Z"
   },
   {
    "duration": 58,
    "start_time": "2024-12-01T02:38:23.917Z"
   },
   {
    "duration": 34,
    "start_time": "2024-12-01T02:38:23.977Z"
   },
   {
    "duration": 14,
    "start_time": "2024-12-01T02:38:24.013Z"
   },
   {
    "duration": 17,
    "start_time": "2024-12-01T02:38:24.030Z"
   },
   {
    "duration": 5,
    "start_time": "2024-12-01T02:38:24.049Z"
   },
   {
    "duration": 438,
    "start_time": "2024-12-01T02:38:24.056Z"
   },
   {
    "duration": 42,
    "start_time": "2024-12-01T02:38:24.496Z"
   },
   {
    "duration": 11871,
    "start_time": "2024-12-01T02:38:24.539Z"
   },
   {
    "duration": 3345,
    "start_time": "2024-12-01T02:38:36.412Z"
   },
   {
    "duration": 119873,
    "start_time": "2024-12-01T02:38:39.760Z"
   },
   {
    "duration": 2085,
    "start_time": "2024-12-01T02:40:39.635Z"
   },
   {
    "duration": 6,
    "start_time": "2024-12-01T02:40:41.722Z"
   },
   {
    "duration": 175,
    "start_time": "2024-12-01T02:40:41.730Z"
   },
   {
    "duration": 124,
    "start_time": "2024-12-01T02:40:41.910Z"
   },
   {
    "duration": 388,
    "start_time": "2024-12-01T02:40:42.035Z"
   },
   {
    "duration": 8404,
    "start_time": "2024-12-01T02:40:42.424Z"
   },
   {
    "duration": 90319,
    "start_time": "2024-12-01T02:40:50.830Z"
   },
   {
    "duration": 1066,
    "start_time": "2024-12-01T03:20:33.743Z"
   },
   {
    "duration": 417,
    "start_time": "2024-12-01T03:20:34.811Z"
   },
   {
    "duration": 22,
    "start_time": "2024-12-01T03:20:35.230Z"
   },
   {
    "duration": 113,
    "start_time": "2024-12-01T03:20:35.253Z"
   },
   {
    "duration": 95,
    "start_time": "2024-12-01T03:20:35.369Z"
   },
   {
    "duration": 67,
    "start_time": "2024-12-01T03:20:35.466Z"
   },
   {
    "duration": 92,
    "start_time": "2024-12-01T03:20:35.534Z"
   },
   {
    "duration": 231,
    "start_time": "2024-12-01T03:20:35.628Z"
   },
   {
    "duration": 256,
    "start_time": "2024-12-01T03:20:35.861Z"
   },
   {
    "duration": 234,
    "start_time": "2024-12-01T03:20:36.119Z"
   },
   {
    "duration": 67,
    "start_time": "2024-12-01T03:20:36.355Z"
   },
   {
    "duration": 23,
    "start_time": "2024-12-01T03:20:36.424Z"
   },
   {
    "duration": 15,
    "start_time": "2024-12-01T03:20:36.450Z"
   },
   {
    "duration": 16,
    "start_time": "2024-12-01T03:20:36.469Z"
   },
   {
    "duration": 24,
    "start_time": "2024-12-01T03:20:36.486Z"
   },
   {
    "duration": 415,
    "start_time": "2024-12-01T03:20:36.512Z"
   },
   {
    "duration": 37,
    "start_time": "2024-12-01T03:20:36.929Z"
   },
   {
    "duration": 11351,
    "start_time": "2024-12-01T03:20:36.968Z"
   },
   {
    "duration": 3383,
    "start_time": "2024-12-01T03:20:48.321Z"
   },
   {
    "duration": 118712,
    "start_time": "2024-12-01T03:20:51.708Z"
   },
   {
    "duration": 2100,
    "start_time": "2024-12-01T03:22:50.422Z"
   },
   {
    "duration": 6,
    "start_time": "2024-12-01T03:22:52.524Z"
   },
   {
    "duration": 182,
    "start_time": "2024-12-01T03:22:52.531Z"
   },
   {
    "duration": 132,
    "start_time": "2024-12-01T03:22:52.714Z"
   },
   {
    "duration": 388,
    "start_time": "2024-12-01T03:22:52.848Z"
   },
   {
    "duration": 8480,
    "start_time": "2024-12-01T03:22:53.238Z"
   },
   {
    "duration": 88608,
    "start_time": "2024-12-01T03:23:01.724Z"
   },
   {
    "duration": 996,
    "start_time": "2024-12-01T03:42:01.097Z"
   },
   {
    "duration": 409,
    "start_time": "2024-12-01T03:42:02.094Z"
   },
   {
    "duration": 23,
    "start_time": "2024-12-01T03:42:02.505Z"
   },
   {
    "duration": 106,
    "start_time": "2024-12-01T03:42:02.531Z"
   },
   {
    "duration": 92,
    "start_time": "2024-12-01T03:42:02.639Z"
   },
   {
    "duration": 55,
    "start_time": "2024-12-01T03:42:02.732Z"
   },
   {
    "duration": 105,
    "start_time": "2024-12-01T03:42:02.789Z"
   },
   {
    "duration": 230,
    "start_time": "2024-12-01T03:42:02.895Z"
   },
   {
    "duration": 261,
    "start_time": "2024-12-01T03:42:03.126Z"
   },
   {
    "duration": 244,
    "start_time": "2024-12-01T03:42:03.390Z"
   },
   {
    "duration": 58,
    "start_time": "2024-12-01T03:42:03.636Z"
   },
   {
    "duration": 31,
    "start_time": "2024-12-01T03:42:03.696Z"
   },
   {
    "duration": 15,
    "start_time": "2024-12-01T03:42:03.730Z"
   },
   {
    "duration": 15,
    "start_time": "2024-12-01T03:42:03.747Z"
   },
   {
    "duration": 3,
    "start_time": "2024-12-01T03:42:03.764Z"
   },
   {
    "duration": 442,
    "start_time": "2024-12-01T03:42:03.768Z"
   },
   {
    "duration": 39,
    "start_time": "2024-12-01T03:42:04.212Z"
   },
   {
    "duration": 11760,
    "start_time": "2024-12-01T03:42:04.253Z"
   },
   {
    "duration": 3363,
    "start_time": "2024-12-01T03:42:16.015Z"
   },
   {
    "duration": 118932,
    "start_time": "2024-12-01T03:42:19.380Z"
   },
   {
    "duration": 2014,
    "start_time": "2024-12-01T03:44:18.314Z"
   },
   {
    "duration": 6,
    "start_time": "2024-12-01T03:44:20.330Z"
   },
   {
    "duration": 192,
    "start_time": "2024-12-01T03:44:20.337Z"
   },
   {
    "duration": 126,
    "start_time": "2024-12-01T03:44:20.531Z"
   },
   {
    "duration": 386,
    "start_time": "2024-12-01T03:44:20.659Z"
   },
   {
    "duration": 8581,
    "start_time": "2024-12-01T03:44:21.046Z"
   },
   {
    "duration": 88710,
    "start_time": "2024-12-01T03:44:29.629Z"
   },
   {
    "duration": 1063,
    "start_time": "2024-12-01T03:59:08.721Z"
   },
   {
    "duration": 404,
    "start_time": "2024-12-01T03:59:09.786Z"
   },
   {
    "duration": 26,
    "start_time": "2024-12-01T03:59:10.191Z"
   },
   {
    "duration": 105,
    "start_time": "2024-12-01T03:59:10.219Z"
   },
   {
    "duration": 92,
    "start_time": "2024-12-01T03:59:10.325Z"
   },
   {
    "duration": 54,
    "start_time": "2024-12-01T03:59:10.418Z"
   },
   {
    "duration": 103,
    "start_time": "2024-12-01T03:59:10.474Z"
   },
   {
    "duration": 235,
    "start_time": "2024-12-01T03:59:10.579Z"
   },
   {
    "duration": 259,
    "start_time": "2024-12-01T03:59:10.816Z"
   },
   {
    "duration": 231,
    "start_time": "2024-12-01T03:59:11.078Z"
   },
   {
    "duration": 59,
    "start_time": "2024-12-01T03:59:11.311Z"
   },
   {
    "duration": 37,
    "start_time": "2024-12-01T03:59:11.372Z"
   },
   {
    "duration": 14,
    "start_time": "2024-12-01T03:59:11.411Z"
   },
   {
    "duration": 15,
    "start_time": "2024-12-01T03:59:11.427Z"
   },
   {
    "duration": 2,
    "start_time": "2024-12-01T03:59:11.444Z"
   },
   {
    "duration": 445,
    "start_time": "2024-12-01T03:59:11.448Z"
   },
   {
    "duration": 52,
    "start_time": "2024-12-01T03:59:11.895Z"
   },
   {
    "duration": 11479,
    "start_time": "2024-12-01T03:59:11.951Z"
   },
   {
    "duration": 3327,
    "start_time": "2024-12-01T03:59:23.512Z"
   },
   {
    "duration": 118917,
    "start_time": "2024-12-01T03:59:26.841Z"
   },
   {
    "duration": 2965,
    "start_time": "2024-12-01T04:01:25.760Z"
   },
   {
    "duration": 5,
    "start_time": "2024-12-01T04:01:28.728Z"
   },
   {
    "duration": 124,
    "start_time": "2024-12-01T04:01:28.808Z"
   },
   {
    "duration": 234,
    "start_time": "2024-12-01T04:01:28.933Z"
   },
   {
    "duration": 0,
    "start_time": "2024-12-01T04:01:29.169Z"
   },
   {
    "duration": 0,
    "start_time": "2024-12-01T04:01:29.170Z"
   },
   {
    "duration": 0,
    "start_time": "2024-12-01T04:01:29.171Z"
   },
   {
    "duration": 0,
    "start_time": "2024-12-01T04:01:29.172Z"
   },
   {
    "duration": 0,
    "start_time": "2024-12-01T04:01:29.173Z"
   },
   {
    "duration": 0,
    "start_time": "2024-12-01T04:01:29.174Z"
   },
   {
    "duration": 0,
    "start_time": "2024-12-01T04:01:29.176Z"
   },
   {
    "duration": 0,
    "start_time": "2024-12-01T04:01:29.176Z"
   },
   {
    "duration": 0,
    "start_time": "2024-12-01T04:01:29.178Z"
   },
   {
    "duration": 14,
    "start_time": "2024-12-01T04:04:19.197Z"
   },
   {
    "duration": 1023,
    "start_time": "2024-12-01T04:04:33.793Z"
   },
   {
    "duration": 447,
    "start_time": "2024-12-01T04:04:34.818Z"
   },
   {
    "duration": 21,
    "start_time": "2024-12-01T04:04:35.266Z"
   },
   {
    "duration": 100,
    "start_time": "2024-12-01T04:04:35.289Z"
   },
   {
    "duration": 101,
    "start_time": "2024-12-01T04:04:35.391Z"
   },
   {
    "duration": 57,
    "start_time": "2024-12-01T04:04:35.494Z"
   },
   {
    "duration": 95,
    "start_time": "2024-12-01T04:04:35.553Z"
   },
   {
    "duration": 224,
    "start_time": "2024-12-01T04:04:35.649Z"
   },
   {
    "duration": 341,
    "start_time": "2024-12-01T04:04:35.874Z"
   },
   {
    "duration": 232,
    "start_time": "2024-12-01T04:04:36.220Z"
   },
   {
    "duration": 67,
    "start_time": "2024-12-01T04:04:36.454Z"
   },
   {
    "duration": 22,
    "start_time": "2024-12-01T04:04:36.524Z"
   },
   {
    "duration": 14,
    "start_time": "2024-12-01T04:04:36.548Z"
   },
   {
    "duration": 17,
    "start_time": "2024-12-01T04:04:36.563Z"
   },
   {
    "duration": 3,
    "start_time": "2024-12-01T04:04:36.581Z"
   },
   {
    "duration": 412,
    "start_time": "2024-12-01T04:04:36.609Z"
   },
   {
    "duration": 36,
    "start_time": "2024-12-01T04:04:37.023Z"
   },
   {
    "duration": 11666,
    "start_time": "2024-12-01T04:04:37.061Z"
   },
   {
    "duration": 3400,
    "start_time": "2024-12-01T04:04:48.729Z"
   },
   {
    "duration": 119800,
    "start_time": "2024-12-01T04:04:52.132Z"
   },
   {
    "duration": 2179,
    "start_time": "2024-12-01T04:06:51.934Z"
   },
   {
    "duration": 5,
    "start_time": "2024-12-01T04:06:54.116Z"
   },
   {
    "duration": 155,
    "start_time": "2024-12-01T04:06:54.122Z"
   },
   {
    "duration": 124,
    "start_time": "2024-12-01T04:06:54.279Z"
   },
   {
    "duration": 395,
    "start_time": "2024-12-01T04:06:54.405Z"
   },
   {
    "duration": 8420,
    "start_time": "2024-12-01T04:06:54.802Z"
   },
   {
    "duration": 89094,
    "start_time": "2024-12-01T04:07:03.224Z"
   },
   {
    "duration": 587856,
    "start_time": "2024-12-01T04:08:32.324Z"
   },
   {
    "duration": 11232,
    "start_time": "2024-12-01T04:18:20.183Z"
   },
   {
    "duration": 4,
    "start_time": "2024-12-01T04:18:31.417Z"
   },
   {
    "duration": 463,
    "start_time": "2024-12-01T04:18:31.423Z"
   },
   {
    "duration": 122,
    "start_time": "2024-12-01T04:18:31.888Z"
   },
   {
    "duration": 8,
    "start_time": "2024-12-02T09:04:42.827Z"
   },
   {
    "duration": 4,
    "start_time": "2024-12-02T09:04:44.082Z"
   }
  ],
  "kernelspec": {
   "display_name": "Python 3 (ipykernel)",
   "language": "python",
   "name": "python3"
  },
  "language_info": {
   "codemirror_mode": {
    "name": "ipython",
    "version": 3
   },
   "file_extension": ".py",
   "mimetype": "text/x-python",
   "name": "python",
   "nbconvert_exporter": "python",
   "pygments_lexer": "ipython3",
   "version": "3.9.19"
  },
  "toc": {
   "base_numbering": 1,
   "nav_menu": {},
   "number_sections": true,
   "sideBar": true,
   "skip_h1_title": true,
   "title_cell": "Table of Contents",
   "title_sidebar": "Contents",
   "toc_cell": false,
   "toc_position": {},
   "toc_section_display": true,
   "toc_window_display": false
  }
 },
 "nbformat": 4,
 "nbformat_minor": 2
}
